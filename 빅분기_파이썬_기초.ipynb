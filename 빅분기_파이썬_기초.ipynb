{
  "cells": [
    {
      "cell_type": "markdown",
      "metadata": {
        "id": "iYgJ23oF7XDm"
      },
      "source": [
        "# 3. 파이썬 기초\n",
        "\n",
        "## 3-1. 파이썬 자료형"
      ]
    },
    {
      "cell_type": "markdown",
      "metadata": {
        "id": "JfYe76y57XDw"
      },
      "source": [
        "### 가. 숫자형(number)"
      ]
    },
    {
      "cell_type": "code",
      "execution_count": null,
      "metadata": {
        "id": "c52kiXbx7XDy",
        "outputId": "c05dd7fc-6080-4ad4-9b6c-1aae81f1d69d"
      },
      "outputs": [
        {
          "data": {
            "text/plain": [
              "-0.4000000000000057"
            ]
          },
          "execution_count": 1,
          "metadata": {},
          "output_type": "execute_result"
        }
      ],
      "source": [
        "# 정수형, 실수형\n",
        "a=123\n",
        "b=-123.4\n",
        "a+b"
      ]
    },
    {
      "cell_type": "code",
      "execution_count": null,
      "metadata": {
        "id": "uB_dDCjY7XD1",
        "outputId": "c2818908-210f-4663-f0bc-306c3422e21d"
      },
      "outputs": [
        {
          "data": {
            "text/plain": [
              "48"
            ]
          },
          "execution_count": 2,
          "metadata": {},
          "output_type": "execute_result"
        }
      ],
      "source": [
        "# 8진수 \n",
        "c=0o34\n",
        "d=0o24\n",
        "c+d"
      ]
    },
    {
      "cell_type": "code",
      "execution_count": null,
      "metadata": {
        "id": "ZmvxPd_b7XD2",
        "outputId": "e4cb334c-b295-448f-f2c5-ee629277b640"
      },
      "outputs": [
        {
          "data": {
            "text/plain": [
              "297"
            ]
          },
          "execution_count": 3,
          "metadata": {},
          "output_type": "execute_result"
        }
      ],
      "source": [
        "# 16진수\n",
        "e=0x2A\n",
        "f=0xFF\n",
        "e+f"
      ]
    },
    {
      "cell_type": "markdown",
      "metadata": {
        "id": "jGo8Csvg7XD3"
      },
      "source": [
        "### 나. 문자형(String)"
      ]
    },
    {
      "cell_type": "code",
      "execution_count": null,
      "metadata": {
        "id": "4-JC4mpR7XD4",
        "outputId": "ac79ef7d-8ef2-49d8-f642-60fc94891d4b"
      },
      "outputs": [
        {
          "name": "stdout",
          "output_type": "stream",
          "text": [
            "WiseInCompany\n",
            "WiseInCompany\n",
            "WiseInCompany\n",
            "123\n",
            "<class 'str'>\n"
          ]
        }
      ],
      "source": [
        "# 문자열\n",
        "s='WiseInCompany'\n",
        "s1=\"WiseInCompany\"\n",
        "s2='''WiseInCompany'''\n",
        "s3=\"123\"\n",
        "print(s)\n",
        "print(s1)\n",
        "print(s2)\n",
        "print(s3)\n",
        "print(type(s3))"
      ]
    },
    {
      "cell_type": "code",
      "execution_count": null,
      "metadata": {
        "id": "zZyAu1d_7XD7",
        "outputId": "a8a379bf-4dd4-47f7-c910-c402dbf3a8cd"
      },
      "outputs": [
        {
          "name": "stdout",
          "output_type": "stream",
          "text": [
            "WiseInCompany\n",
            "WiseInCompanyWiseInCompany\n"
          ]
        }
      ],
      "source": [
        "# 문자열 연산하기\n",
        "a=\"Wise\"\n",
        "b=\"InCompany\"\n",
        "print(a+b)\n",
        "a=\"WiseInCompany\"\n",
        "print(a*2)"
      ]
    },
    {
      "cell_type": "code",
      "execution_count": null,
      "metadata": {
        "id": "r4Mu0uTF7XD8",
        "outputId": "5000e933-f2da-4dc2-a6fa-78cd4e611d47"
      },
      "outputs": [
        {
          "name": "stdout",
          "output_type": "stream",
          "text": [
            "e\n",
            "a\n",
            "Wise In Company\n",
            " In Company\n",
            "Wise\n"
          ]
        }
      ],
      "source": [
        "# 문자열 인덱싱 및 슬라이싱\n",
        "a=\"Wise In Company\"\n",
        "print(a[3])\n",
        "print(a[-3])\n",
        "print(a[0:15])\n",
        "print(a[4:])\n",
        "print(a[0:4])"
      ]
    },
    {
      "cell_type": "markdown",
      "metadata": {
        "id": "U0mHz0kG7XD9"
      },
      "source": [
        "### 다. 리스트(List)"
      ]
    },
    {
      "cell_type": "code",
      "execution_count": null,
      "metadata": {
        "id": "m4OhFRhw7XD-",
        "outputId": "b88280e1-d511-4e4d-ef0d-69d9fedfa915"
      },
      "outputs": [
        {
          "name": "stdout",
          "output_type": "stream",
          "text": [
            "[1, 2, 3, 4, 5]\n",
            "1\n",
            "5\n",
            "[1, 2, 3, 4, 5]\n",
            "[1, 2, 3, 4, 5]\n",
            "[3, 4, 5]\n"
          ]
        }
      ],
      "source": [
        "# 리스트\n",
        "a=[1,2,3,4,5]\n",
        "print(a)\n",
        "# 리스트 인덱싱\n",
        "a=[1,2,3,4,5]\n",
        "print(a[0])\n",
        "print(a[-1])\n",
        "# 리스트 슬라이싱\n",
        "a=[1,2,3,4,5]\n",
        "print(a[0:5])\n",
        "print(a[:5])\n",
        "print(a[2:])"
      ]
    },
    {
      "cell_type": "code",
      "execution_count": null,
      "metadata": {
        "id": "S24bO4xO7XD_",
        "outputId": "da708ab5-55ba-4cb1-9fbc-2870ef938bcc"
      },
      "outputs": [
        {
          "name": "stdout",
          "output_type": "stream",
          "text": [
            "[0, 3, 4, 5, 6]\n"
          ]
        }
      ],
      "source": [
        "# 리스트 요소 추가/수정/삭제\n",
        "a=[1,2,3,4,5]\n",
        "a.append(6)\n",
        "a[0]=0\n",
        "del a[1]\n",
        "print(a)"
      ]
    },
    {
      "cell_type": "code",
      "execution_count": null,
      "metadata": {
        "id": "0geYagpG7XEA",
        "outputId": "5d29590a-fa90-498a-e77d-1cf333998cde"
      },
      "outputs": [
        {
          "name": "stdout",
          "output_type": "stream",
          "text": [
            "[1, 2, 3, 4, 5]\n",
            "[1, 2, 1, 2, 1, 2]\n"
          ]
        }
      ],
      "source": [
        "# 리스트 병합 및 반복\n",
        "a=[1,2]\n",
        "b=[3,4,5]\n",
        "c=a+b\n",
        "print(c)\n",
        "d=a*3\n",
        "print(d)"
      ]
    },
    {
      "cell_type": "markdown",
      "metadata": {
        "id": "WVPIjwtF7XEB"
      },
      "source": [
        "### 라. 튜플(Tuple)"
      ]
    },
    {
      "cell_type": "code",
      "execution_count": null,
      "metadata": {
        "id": "SCyk0ugH7XEC",
        "outputId": "f252a480-7daa-4b74-e201-be665a84f9c4"
      },
      "outputs": [
        {
          "name": "stdout",
          "output_type": "stream",
          "text": [
            "2\n",
            "(1, 2, 3)\n"
          ]
        }
      ],
      "source": [
        "# 튜플 \n",
        "t=(1,2,3,4,5)\n",
        "# 튜플 인덱싱 및 슬라이싱\n",
        "t1=(1,2,3)\n",
        "print(t[1]) # 인덱싱\n",
        "print(t[0:3]) # 슬라이싱"
      ]
    },
    {
      "cell_type": "code",
      "execution_count": null,
      "metadata": {
        "id": "b1_vKA477XEC",
        "outputId": "6dd4e9c7-8a41-4a9f-bbf3-b39aac5724de"
      },
      "outputs": [
        {
          "name": "stdout",
          "output_type": "stream",
          "text": [
            "[1, 2, 1, 2, 1, 2]\n",
            "(1, 2, 1, 2, 1, 2)\n"
          ]
        }
      ],
      "source": [
        "# 튜플 병합 및 반복\n",
        "a=(1,2)\n",
        "b=(3,4,5)\n",
        "c=a+b\n",
        "print(d)\n",
        "d=a*3\n",
        "print(d)"
      ]
    },
    {
      "cell_type": "code",
      "execution_count": null,
      "metadata": {
        "id": "CFk7ZVhi7XED",
        "outputId": "ef1357e8-e95a-48b9-f8e9-df99dc0b59d9"
      },
      "outputs": [
        {
          "name": "stdout",
          "output_type": "stream",
          "text": [
            "('David', 'Kim')\n",
            "Kim ,  David\n"
          ]
        }
      ],
      "source": [
        "# 튜플 변수 할당\n",
        "name=(\"David\", \"Kim\")\n",
        "print(name)\n",
        "firstname, lastname=(\"David\", \"Kim\")\n",
        "print(lastname, \", \", firstname)"
      ]
    },
    {
      "cell_type": "markdown",
      "metadata": {
        "id": "Akg8Lyal7XED"
      },
      "source": [
        "### 마. 집합(set)"
      ]
    },
    {
      "cell_type": "code",
      "execution_count": null,
      "metadata": {
        "id": "zBGEzF2B7XEE",
        "outputId": "48b4d442-98c6-4845-8eaf-054b313f5dce"
      },
      "outputs": [
        {
          "name": "stdout",
          "output_type": "stream",
          "text": [
            "{1, 2, 3}\n"
          ]
        }
      ],
      "source": [
        "# 집합\n",
        "set={1,1,2,3}\n",
        "print(set)"
      ]
    },
    {
      "cell_type": "code",
      "execution_count": null,
      "metadata": {
        "id": "wqDtv_ot7XEE",
        "outputId": "9a892b36-6e43-4e3e-eff2-69e668d81ffb"
      },
      "outputs": [
        {
          "data": {
            "text/plain": [
              "{1, 2, 3, 4}"
            ]
          },
          "execution_count": 14,
          "metadata": {},
          "output_type": "execute_result"
        }
      ],
      "source": [
        "# 집합 추가 및 삭제1\n",
        "set={1,1,2,3}\n",
        "set.add(4) # 요소 하나 추가\n",
        "set"
      ]
    },
    {
      "cell_type": "code",
      "execution_count": null,
      "metadata": {
        "id": "lXJoh6O07XEF",
        "outputId": "37516bdc-4129-482d-83a4-dffaccfcec07"
      },
      "outputs": [
        {
          "data": {
            "text/plain": [
              "{1, 2, 3, 4, 5, 6}"
            ]
          },
          "execution_count": 15,
          "metadata": {},
          "output_type": "execute_result"
        }
      ],
      "source": [
        "# 집합 추가 및 삭제2\n",
        "set={1,1,2,3}\n",
        "set.update({4,5,6}) # 요소 여러 개 추가\n",
        "set"
      ]
    },
    {
      "cell_type": "code",
      "execution_count": null,
      "metadata": {
        "id": "pxu-eODA7XEG",
        "outputId": "95b364d8-c5e1-4710-bd11-ef88ea9d6725"
      },
      "outputs": [
        {
          "data": {
            "text/plain": [
              "{2, 3, 4, 5, 6}"
            ]
          },
          "execution_count": 16,
          "metadata": {},
          "output_type": "execute_result"
        }
      ],
      "source": [
        "# 요소 하나 삭제\n",
        "set.remove(1)\n",
        "set"
      ]
    },
    {
      "cell_type": "code",
      "execution_count": null,
      "metadata": {
        "id": "IUQMpTdS7XEH",
        "outputId": "880b0d06-e392-44b7-caf7-2cbb967e588b"
      },
      "outputs": [
        {
          "data": {
            "text/plain": [
              "set()"
            ]
          },
          "execution_count": 17,
          "metadata": {},
          "output_type": "execute_result"
        }
      ],
      "source": [
        "# 요소 모두 삭제\n",
        "set.clear()\n",
        "set"
      ]
    },
    {
      "cell_type": "code",
      "execution_count": null,
      "metadata": {
        "id": "FMiCnS_37XEI",
        "outputId": "af0330bf-0624-41aa-d3ba-ce45a9d941e3"
      },
      "outputs": [
        {
          "name": "stdout",
          "output_type": "stream",
          "text": [
            "{1, 3}\n",
            "{1, 2, 3, 4}\n",
            "{2}\n"
          ]
        }
      ],
      "source": [
        "# 집합 연산\n",
        "a={1,2,3}\n",
        "b={1,3,4}\n",
        "# 교집합\n",
        "c=a&b\n",
        "print(c)\n",
        "# 합집합\n",
        "d=a|b\n",
        "print(d)\n",
        "# 차집합\n",
        "e=a-b\n",
        "print(e)"
      ]
    },
    {
      "cell_type": "markdown",
      "metadata": {
        "id": "wS9yu2887XEI"
      },
      "source": [
        "### 바. 사전(Dictionary)"
      ]
    },
    {
      "cell_type": "code",
      "execution_count": null,
      "metadata": {
        "id": "Wjf3M_iT7XEI",
        "outputId": "6795bbff-63ea-444e-b0ed-c9acd7b89995"
      },
      "outputs": [
        {
          "data": {
            "text/plain": [
              "90"
            ]
          },
          "execution_count": 19,
          "metadata": {},
          "output_type": "execute_result"
        }
      ],
      "source": [
        "# 사전\n",
        "test={\"Kim\":90, \"Jeong\":80, \"Park\":75}\n",
        "test[\"Kim\"] # 키 이용"
      ]
    },
    {
      "cell_type": "code",
      "execution_count": null,
      "metadata": {
        "id": "-22PWVEz7XEJ",
        "outputId": "a9b709b0-bfe5-4d7f-8b28-b342c3a85d84"
      },
      "outputs": [
        {
          "name": "stdout",
          "output_type": "stream",
          "text": [
            "{'Kim': 90, 'Jeong': 85, 'Cho': 95}\n"
          ]
        }
      ],
      "source": [
        "# 사전 추가/수정/삭제\n",
        "test={\"Kim\":90, \"Jeong\":80, \"Park\":75}\n",
        "test[\"Jeong\"]=85\n",
        "test[\"Cho\"]=95\n",
        "del test[\"Park\"]\n",
        "print(test)"
      ]
    },
    {
      "cell_type": "code",
      "execution_count": null,
      "metadata": {
        "id": "vidyrbls7XEJ",
        "outputId": "69fedef2-53e9-45bd-d6b7-2a19a957ae9c"
      },
      "outputs": [
        {
          "name": "stdout",
          "output_type": "stream",
          "text": [
            "dict_keys(['Kim', 'Jeong', 'Park'])\n",
            "dict_values([90, 80, 75])\n"
          ]
        }
      ],
      "source": [
        "# 키 또는 값 가져오기\n",
        "test={\"Kim\":90, \"Jeong\":80, \"Park\":75}\n",
        "print(test.keys())    # 키 가져오기\n",
        "print(test.values())  # 값 가져오기"
      ]
    },
    {
      "cell_type": "markdown",
      "metadata": {
        "id": "ZK-E4spD7XEK"
      },
      "source": [
        "## 3-2. if문"
      ]
    },
    {
      "cell_type": "code",
      "execution_count": null,
      "metadata": {
        "id": "0FihqYFg7XEL",
        "outputId": "9e5ef91e-fb1b-448e-af05-5e1e506c8447"
      },
      "outputs": [
        {
          "name": "stdout",
          "output_type": "stream",
          "text": [
            "걍 걸어가!\n"
          ]
        }
      ],
      "source": [
        "# if문 예시\n",
        "money=4000\n",
        "if money==3000:\n",
        "    print(\"KTX 타고 가자\")\n",
        "elif money>=5000:\n",
        "    print(\"버스 타고 가자\")\n",
        "else:\n",
        "    print(\"걍 걸어가!\")"
      ]
    },
    {
      "cell_type": "markdown",
      "metadata": {
        "id": "92jzinW77XEL"
      },
      "source": [
        "## 3-3. 반복문"
      ]
    },
    {
      "cell_type": "markdown",
      "metadata": {
        "id": "D5ShR3hk7XEL"
      },
      "source": [
        "### 가. for문"
      ]
    },
    {
      "cell_type": "code",
      "execution_count": null,
      "metadata": {
        "id": "dIJhgyxc7XEM",
        "outputId": "464309e9-90d3-418e-d992-87f505b4185b"
      },
      "outputs": [
        {
          "name": "stdout",
          "output_type": "stream",
          "text": [
            "55\n"
          ]
        }
      ],
      "source": [
        "# for문 기본\n",
        "sum=0\n",
        "for i in range(11):\n",
        "    sum=sum+i\n",
        "print(sum)"
      ]
    },
    {
      "cell_type": "code",
      "execution_count": null,
      "metadata": {
        "id": "Oo_HnWvb7XEM",
        "outputId": "48969490-9440-4d1c-9939-11d3cf106707"
      },
      "outputs": [
        {
          "name": "stdout",
          "output_type": "stream",
          "text": [
            "Wise\n",
            "In\n",
            "Company\n"
          ]
        }
      ],
      "source": [
        "# for문 리스트 출력\n",
        "list=[\"Wise\", \"In\", \"Company\"]\n",
        "for s in list:\n",
        "    print(s)"
      ]
    },
    {
      "cell_type": "markdown",
      "metadata": {
        "id": "aP_PK9kZ7XEM"
      },
      "source": [
        "### 나. while문"
      ]
    },
    {
      "cell_type": "code",
      "execution_count": null,
      "metadata": {
        "id": "cqpAE4WO7XEM",
        "outputId": "b19a8474-6a9b-4985-90b6-5f22042aa2e0"
      },
      "outputs": [
        {
          "name": "stdout",
          "output_type": "stream",
          "text": [
            "0\n",
            "1\n",
            "2\n",
            "3\n",
            "4\n",
            "5\n",
            "6\n",
            "7\n",
            "8\n",
            "9\n"
          ]
        }
      ],
      "source": [
        "# while문 기본\n",
        "i=0\n",
        "while i<10:\n",
        "    print(i)\n",
        "    i=i+1"
      ]
    },
    {
      "cell_type": "code",
      "execution_count": null,
      "metadata": {
        "id": "RzRVI3Yd7XEN",
        "outputId": "f26c0daf-8f5b-408f-857e-7c897f6cd32f"
      },
      "outputs": [
        {
          "name": "stdout",
          "output_type": "stream",
          "text": [
            "apple\n",
            "banana\n",
            "bread\n"
          ]
        }
      ],
      "source": [
        "# while문 리스트 출력\n",
        "food=[\"apple\", \"banana\", \"bread\"]\n",
        "i=0\n",
        "while i < len(food):\n",
        "    print(food[i])\n",
        "    i=i+1"
      ]
    },
    {
      "cell_type": "markdown",
      "metadata": {
        "id": "JVr7__IB7XEN"
      },
      "source": [
        "# 4. numpy 함수"
      ]
    },
    {
      "cell_type": "markdown",
      "metadata": {
        "id": "jTcc6W-p7XEO"
      },
      "source": [
        "### 가. numpy 배열 생성"
      ]
    },
    {
      "cell_type": "code",
      "execution_count": null,
      "metadata": {
        "id": "_Mme0Pk57XEO",
        "outputId": "89b04d4a-9f7a-4827-b00b-b206d6376251"
      },
      "outputs": [
        {
          "name": "stdout",
          "output_type": "stream",
          "text": [
            "[1 2 3 4]\n"
          ]
        }
      ],
      "source": [
        "# numpy 배열 기본\n",
        "import numpy as np\n",
        "v1=np.array([1,2,3,4])\n",
        "print(v1)"
      ]
    },
    {
      "cell_type": "code",
      "execution_count": null,
      "metadata": {
        "id": "SBTcz5Sx7XEO",
        "outputId": "a9bb31a3-c987-420c-a064-d47b85235f2b"
      },
      "outputs": [
        {
          "name": "stdout",
          "output_type": "stream",
          "text": [
            "[0 1 2 3 4]\n",
            "[1 3 5 7 9]\n",
            "[3.5 5.5 7.5 9.5]\n",
            "[ 1  9 25 49 81]\n",
            "[  1  27 125 343 729]\n"
          ]
        }
      ],
      "source": [
        "# 연속되거나 일정한 규칙을 가진 숫자\n",
        "v1=np.arange(5)\n",
        "print(v1)\n",
        "# 연속되거나 일정한 규칙을 가진 숫자, 데이터 형태 지정\n",
        "v2=np.arange(1,10,2, dtype=int)\n",
        "v3=np.arange(3.5,10.5,2, dtype=float)\n",
        "print(v2)\n",
        "print(v3)\n",
        "# 제곱값 생성\n",
        "v4=np.arange(1,10,2)**2\n",
        "print(v4)\n",
        "# 세제곱값 생성\n",
        "v5=np.arange(1,10,2)**3\n",
        "print(v5)"
      ]
    },
    {
      "cell_type": "code",
      "execution_count": null,
      "metadata": {
        "id": "EBNpOYLw7XEP",
        "outputId": "b362cac5-6ea7-4d0f-d9f0-4d5a0b190924"
      },
      "outputs": [
        {
          "name": "stdout",
          "output_type": "stream",
          "text": [
            "[ 0  1  2  3  4  5  6  7  8  9 10 11]\n",
            "[[ 0  1  2  3  4  5]\n",
            " [ 6  7  8  9 10 11]]\n",
            "[[ 0  2  4  6  8 10]\n",
            " [ 1  3  5  7  9 11]]\n"
          ]
        }
      ],
      "source": [
        "# 행렬만들기\n",
        "v1=np.arange(12)\n",
        "print(v1)\n",
        "v2=v1.reshape(2,6)\n",
        "print(v2)\n",
        "v3=v1.reshape(2,6, order='F')\n",
        "print(v3)"
      ]
    },
    {
      "cell_type": "code",
      "execution_count": null,
      "metadata": {
        "id": "P0aPYgRn7XEQ",
        "outputId": "15eeb420-7afc-4ee1-b6a5-534ef9baa036"
      },
      "outputs": [
        {
          "name": "stdout",
          "output_type": "stream",
          "text": [
            "[[2 4]\n",
            " [6 8]]\n",
            "[[0 0]\n",
            " [0 0]]\n",
            "[[ 1  4]\n",
            " [ 9 16]]\n",
            "[[ 7 10]\n",
            " [15 22]]\n"
          ]
        }
      ],
      "source": [
        "# 행렬계산\n",
        "v1=np.arange(1,5).reshape(2,2)\n",
        "print(np.add(v1,v1))        # 덧셈\n",
        "print(np.subtract(v1,v1))   # 뺄셈\n",
        "print(np.multiply(v1,v1))   # 곱셈\n",
        "print(np.dot(v1,v1))        # 행렬연산"
      ]
    },
    {
      "cell_type": "code",
      "execution_count": null,
      "metadata": {
        "id": "w6u19fx37XEQ",
        "outputId": "9c29b7e9-7b9e-4844-996b-f5842b45323d"
      },
      "outputs": [
        {
          "name": "stdout",
          "output_type": "stream",
          "text": [
            "[ 0  1  2  3  4  5  6  7  8  9 10 11]\n",
            "[[[ 0  6]\n",
            "  [ 2  8]\n",
            "  [ 4 10]]\n",
            "\n",
            " [[ 1  7]\n",
            "  [ 3  9]\n",
            "  [ 5 11]]]\n"
          ]
        }
      ],
      "source": [
        "# 다차원 행렬 만들기\n",
        "v1=np.arange(12)\n",
        "print(v1)\n",
        "v2=v1.reshape(2,3,2, order='F')\n",
        "print(v2)"
      ]
    },
    {
      "cell_type": "code",
      "execution_count": null,
      "metadata": {
        "id": "jFMDQyXm7XER",
        "outputId": "e33ae156-9bbc-4b18-82ec-b4554622cb92"
      },
      "outputs": [
        {
          "name": "stdout",
          "output_type": "stream",
          "text": [
            "[3.5 5.5 7.5 9.5]\n",
            "[[1 2]\n",
            " [3 4]]\n",
            "9.5\n",
            "1\n",
            "float64\n",
            "(2, 2)\n"
          ]
        }
      ],
      "source": [
        "# 다차원 배열에서 요소의 최대값 및 최소값 반환\n",
        "v3=np.arange(3.5, 10.5, 2, dtype=float)\n",
        "print(v3)\n",
        "v4=np.arange(1,5).reshape(2,2)\n",
        "print(v4)\n",
        "print(np.amax(v3))\n",
        "print(np.amin(v4))\n",
        "print(v3.dtype)\n",
        "print(v4.shape)"
      ]
    },
    {
      "cell_type": "markdown",
      "metadata": {
        "id": "JF6M0y5f7XES"
      },
      "source": [
        "# 5. pandas 함수와 기본 데이터 처리"
      ]
    },
    {
      "cell_type": "markdown",
      "metadata": {
        "id": "RmCuP5ba7XES"
      },
      "source": [
        "## 5.1 pandas 함수 개요\n",
        "### 나. Series"
      ]
    },
    {
      "cell_type": "code",
      "execution_count": null,
      "metadata": {
        "id": "X8XRsrKB7XET",
        "outputId": "9157a0b0-279c-4414-9ed8-820fe2461835"
      },
      "outputs": [
        {
          "name": "stdout",
          "output_type": "stream",
          "text": [
            "0    1\n",
            "1    3\n",
            "2    5\n",
            "3    7\n",
            "dtype: int64\n",
            "[1 3 5 7]\n",
            "RangeIndex(start=0, stop=4, step=1)\n",
            "a    1\n",
            "b    3\n",
            "c    5\n",
            "d    7\n",
            "dtype: int64\n"
          ]
        }
      ],
      "source": [
        "# pandas 함수 불러오기\n",
        "import pandas as pd\n",
        "from pandas import Series, DataFrame\n",
        "# series 설정\n",
        "a=Series([1,3,5,7])\n",
        "print(a)\n",
        "print(a.values)\n",
        "print(a.index)\n",
        "# index 변경\n",
        "a2=pd.Series([1,3,5,7], index=['a','b','c', 'd'])\n",
        "print(a2)"
      ]
    },
    {
      "cell_type": "code",
      "execution_count": null,
      "metadata": {
        "id": "-MF-bcsQ7XET",
        "outputId": "e256aabb-8b89-44d0-81c2-afc7794bf573"
      },
      "outputs": [
        {
          "data": {
            "text/plain": [
              "a    1\n",
              "b    3\n",
              "c    5\n",
              "d    7\n",
              "dtype: int64"
            ]
          },
          "execution_count": 34,
          "metadata": {},
          "output_type": "execute_result"
        }
      ],
      "source": [
        "# index 변경\n",
        "a2=pd.Series([1,3,5,7], index=['a','b','c', 'd'])\n",
        "a2"
      ]
    },
    {
      "cell_type": "markdown",
      "metadata": {
        "id": "3lV-TeYg7XET"
      },
      "source": [
        "## 5.2 데이터 불러오기"
      ]
    },
    {
      "cell_type": "markdown",
      "metadata": {
        "id": "9xZV-4dV7XEU"
      },
      "source": [
        "### 가. DataFrame과 데이어 파일 불러오기"
      ]
    },
    {
      "cell_type": "code",
      "execution_count": null,
      "metadata": {
        "id": "8XU8xp4U7XEU",
        "outputId": "a1cdc539-bf72-4c78-e6e7-e4d9c51ce0f8"
      },
      "outputs": [
        {
          "data": {
            "text/html": [
              "<div>\n",
              "<style scoped>\n",
              "    .dataframe tbody tr th:only-of-type {\n",
              "        vertical-align: middle;\n",
              "    }\n",
              "\n",
              "    .dataframe tbody tr th {\n",
              "        vertical-align: top;\n",
              "    }\n",
              "\n",
              "    .dataframe thead th {\n",
              "        text-align: right;\n",
              "    }\n",
              "</style>\n",
              "<table border=\"1\" class=\"dataframe\">\n",
              "  <thead>\n",
              "    <tr style=\"text-align: right;\">\n",
              "      <th></th>\n",
              "      <th>continent</th>\n",
              "      <th>brand</th>\n",
              "      <th>size</th>\n",
              "      <th>period</th>\n",
              "      <th>price</th>\n",
              "    </tr>\n",
              "  </thead>\n",
              "  <tbody>\n",
              "    <tr>\n",
              "      <th>0</th>\n",
              "      <td>2</td>\n",
              "      <td>2</td>\n",
              "      <td>10.7</td>\n",
              "      <td>47.65</td>\n",
              "      <td>144</td>\n",
              "    </tr>\n",
              "    <tr>\n",
              "      <th>1</th>\n",
              "      <td>2</td>\n",
              "      <td>3</td>\n",
              "      <td>14.0</td>\n",
              "      <td>63.13</td>\n",
              "      <td>215</td>\n",
              "    </tr>\n",
              "    <tr>\n",
              "      <th>2</th>\n",
              "      <td>2</td>\n",
              "      <td>2</td>\n",
              "      <td>9.0</td>\n",
              "      <td>58.76</td>\n",
              "      <td>105</td>\n",
              "    </tr>\n",
              "    <tr>\n",
              "      <th>3</th>\n",
              "      <td>1</td>\n",
              "      <td>1</td>\n",
              "      <td>8.0</td>\n",
              "      <td>34.88</td>\n",
              "      <td>69</td>\n",
              "    </tr>\n",
              "    <tr>\n",
              "      <th>4</th>\n",
              "      <td>2</td>\n",
              "      <td>2</td>\n",
              "      <td>10.0</td>\n",
              "      <td>55.53</td>\n",
              "      <td>134</td>\n",
              "    </tr>\n",
              "    <tr>\n",
              "      <th>...</th>\n",
              "      <td>...</td>\n",
              "      <td>...</td>\n",
              "      <td>...</td>\n",
              "      <td>...</td>\n",
              "      <td>...</td>\n",
              "    </tr>\n",
              "    <tr>\n",
              "      <th>58</th>\n",
              "      <td>1</td>\n",
              "      <td>1</td>\n",
              "      <td>5.0</td>\n",
              "      <td>16.66</td>\n",
              "      <td>21.5</td>\n",
              "    </tr>\n",
              "    <tr>\n",
              "      <th>59</th>\n",
              "      <td>2</td>\n",
              "      <td>1</td>\n",
              "      <td>21.0</td>\n",
              "      <td>43.00</td>\n",
              "      <td></td>\n",
              "    </tr>\n",
              "    <tr>\n",
              "      <th>60</th>\n",
              "      <td>2</td>\n",
              "      <td>2</td>\n",
              "      <td>5.0</td>\n",
              "      <td>12.00</td>\n",
              "      <td></td>\n",
              "    </tr>\n",
              "    <tr>\n",
              "      <th>61</th>\n",
              "      <td>2</td>\n",
              "      <td>3</td>\n",
              "      <td>13.0</td>\n",
              "      <td>20.00</td>\n",
              "      <td></td>\n",
              "    </tr>\n",
              "    <tr>\n",
              "      <th>62</th>\n",
              "      <td>2</td>\n",
              "      <td>3</td>\n",
              "      <td>31.0</td>\n",
              "      <td>19.00</td>\n",
              "      <td></td>\n",
              "    </tr>\n",
              "  </tbody>\n",
              "</table>\n",
              "<p>63 rows × 5 columns</p>\n",
              "</div>"
            ],
            "text/plain": [
              "    continent  brand  size  period price\n",
              "0           2      2  10.7   47.65   144\n",
              "1           2      3  14.0   63.13   215\n",
              "2           2      2   9.0   58.76   105\n",
              "3           1      1   8.0   34.88    69\n",
              "4           2      2  10.0   55.53   134\n",
              "..        ...    ...   ...     ...   ...\n",
              "58          1      1   5.0   16.66  21.5\n",
              "59          2      1  21.0   43.00      \n",
              "60          2      2   5.0   12.00      \n",
              "61          2      3  13.0   20.00      \n",
              "62          2      3  31.0   19.00      \n",
              "\n",
              "[63 rows x 5 columns]"
            ]
          },
          "execution_count": 35,
          "metadata": {},
          "output_type": "execute_result"
        }
      ],
      "source": [
        "# csv파일을 pandas DataFrame 형태로 불러오기 \n",
        "df=pd.read_csv('EX_GrapeData.csv')\n",
        "df"
      ]
    },
    {
      "cell_type": "code",
      "execution_count": null,
      "metadata": {
        "id": "QzMlH60r7XEU",
        "outputId": "9dd5404d-9f27-4dce-a0bd-3722437cbf2b"
      },
      "outputs": [
        {
          "data": {
            "text/html": [
              "<div>\n",
              "<style scoped>\n",
              "    .dataframe tbody tr th:only-of-type {\n",
              "        vertical-align: middle;\n",
              "    }\n",
              "\n",
              "    .dataframe tbody tr th {\n",
              "        vertical-align: top;\n",
              "    }\n",
              "\n",
              "    .dataframe thead th {\n",
              "        text-align: right;\n",
              "    }\n",
              "</style>\n",
              "<table border=\"1\" class=\"dataframe\">\n",
              "  <thead>\n",
              "    <tr style=\"text-align: right;\">\n",
              "      <th></th>\n",
              "      <th>continent</th>\n",
              "      <th>brand</th>\n",
              "      <th>size</th>\n",
              "      <th>period</th>\n",
              "      <th>price</th>\n",
              "    </tr>\n",
              "  </thead>\n",
              "  <tbody>\n",
              "    <tr>\n",
              "      <th>0</th>\n",
              "      <td>2</td>\n",
              "      <td>2</td>\n",
              "      <td>10.7</td>\n",
              "      <td>47.65</td>\n",
              "      <td>144.0</td>\n",
              "    </tr>\n",
              "    <tr>\n",
              "      <th>1</th>\n",
              "      <td>2</td>\n",
              "      <td>3</td>\n",
              "      <td>14.0</td>\n",
              "      <td>63.13</td>\n",
              "      <td>215.0</td>\n",
              "    </tr>\n",
              "    <tr>\n",
              "      <th>2</th>\n",
              "      <td>2</td>\n",
              "      <td>2</td>\n",
              "      <td>9.0</td>\n",
              "      <td>58.76</td>\n",
              "      <td>105.0</td>\n",
              "    </tr>\n",
              "    <tr>\n",
              "      <th>3</th>\n",
              "      <td>1</td>\n",
              "      <td>1</td>\n",
              "      <td>8.0</td>\n",
              "      <td>34.88</td>\n",
              "      <td>69.0</td>\n",
              "    </tr>\n",
              "    <tr>\n",
              "      <th>4</th>\n",
              "      <td>2</td>\n",
              "      <td>2</td>\n",
              "      <td>10.0</td>\n",
              "      <td>55.53</td>\n",
              "      <td>134.0</td>\n",
              "    </tr>\n",
              "    <tr>\n",
              "      <th>...</th>\n",
              "      <td>...</td>\n",
              "      <td>...</td>\n",
              "      <td>...</td>\n",
              "      <td>...</td>\n",
              "      <td>...</td>\n",
              "    </tr>\n",
              "    <tr>\n",
              "      <th>58</th>\n",
              "      <td>1</td>\n",
              "      <td>1</td>\n",
              "      <td>5.0</td>\n",
              "      <td>16.66</td>\n",
              "      <td>21.5</td>\n",
              "    </tr>\n",
              "    <tr>\n",
              "      <th>59</th>\n",
              "      <td>2</td>\n",
              "      <td>1</td>\n",
              "      <td>21.0</td>\n",
              "      <td>43.00</td>\n",
              "      <td>NaN</td>\n",
              "    </tr>\n",
              "    <tr>\n",
              "      <th>60</th>\n",
              "      <td>2</td>\n",
              "      <td>2</td>\n",
              "      <td>5.0</td>\n",
              "      <td>12.00</td>\n",
              "      <td>NaN</td>\n",
              "    </tr>\n",
              "    <tr>\n",
              "      <th>61</th>\n",
              "      <td>2</td>\n",
              "      <td>3</td>\n",
              "      <td>13.0</td>\n",
              "      <td>20.00</td>\n",
              "      <td>NaN</td>\n",
              "    </tr>\n",
              "    <tr>\n",
              "      <th>62</th>\n",
              "      <td>2</td>\n",
              "      <td>3</td>\n",
              "      <td>31.0</td>\n",
              "      <td>19.00</td>\n",
              "      <td>NaN</td>\n",
              "    </tr>\n",
              "  </tbody>\n",
              "</table>\n",
              "<p>63 rows × 5 columns</p>\n",
              "</div>"
            ],
            "text/plain": [
              "    continent  brand  size  period  price\n",
              "0           2      2  10.7   47.65  144.0\n",
              "1           2      3  14.0   63.13  215.0\n",
              "2           2      2   9.0   58.76  105.0\n",
              "3           1      1   8.0   34.88   69.0\n",
              "4           2      2  10.0   55.53  134.0\n",
              "..        ...    ...   ...     ...    ...\n",
              "58          1      1   5.0   16.66   21.5\n",
              "59          2      1  21.0   43.00    NaN\n",
              "60          2      2   5.0   12.00    NaN\n",
              "61          2      3  13.0   20.00    NaN\n",
              "62          2      3  31.0   19.00    NaN\n",
              "\n",
              "[63 rows x 5 columns]"
            ]
          },
          "execution_count": 36,
          "metadata": {},
          "output_type": "execute_result"
        }
      ],
      "source": [
        "# 엑셀파일을 pandas DataFrame 형태로 불러오기 \n",
        "df=pd.read_excel('EX_GrapeData.xlsx')\n",
        "df"
      ]
    },
    {
      "cell_type": "code",
      "execution_count": null,
      "metadata": {
        "id": "BYa6PX0v7XEV"
      },
      "outputs": [],
      "source": [
        "# 한글이 포함되어 있을 경우 인코딩 설정(encoding='euc-kr', 'cp949', 'utf-8' 등 옵션 설정)\n",
        "# df = pd.read_csv('EX_GrapeData.csv', encoding='euc-kr')\n",
        "# df = pd.read_excel('EX_GrapeData.xlsx', encoding='euc-kr')"
      ]
    },
    {
      "cell_type": "markdown",
      "metadata": {
        "id": "8DTwnOp37XEV"
      },
      "source": [
        "### 나. DataFrame 확인하기"
      ]
    },
    {
      "cell_type": "code",
      "execution_count": null,
      "metadata": {
        "id": "eHoxneRH7XEV",
        "outputId": "e7ac5f3a-a364-4056-e414-5ea7c012bd3c"
      },
      "outputs": [
        {
          "data": {
            "text/html": [
              "<div>\n",
              "<style scoped>\n",
              "    .dataframe tbody tr th:only-of-type {\n",
              "        vertical-align: middle;\n",
              "    }\n",
              "\n",
              "    .dataframe tbody tr th {\n",
              "        vertical-align: top;\n",
              "    }\n",
              "\n",
              "    .dataframe thead th {\n",
              "        text-align: right;\n",
              "    }\n",
              "</style>\n",
              "<table border=\"1\" class=\"dataframe\">\n",
              "  <thead>\n",
              "    <tr style=\"text-align: right;\">\n",
              "      <th></th>\n",
              "      <th>continent</th>\n",
              "      <th>brand</th>\n",
              "      <th>size</th>\n",
              "      <th>period</th>\n",
              "      <th>price</th>\n",
              "    </tr>\n",
              "  </thead>\n",
              "  <tbody>\n",
              "    <tr>\n",
              "      <th>0</th>\n",
              "      <td>2</td>\n",
              "      <td>2</td>\n",
              "      <td>10.7</td>\n",
              "      <td>47.65</td>\n",
              "      <td>144.0</td>\n",
              "    </tr>\n",
              "    <tr>\n",
              "      <th>1</th>\n",
              "      <td>2</td>\n",
              "      <td>3</td>\n",
              "      <td>14.0</td>\n",
              "      <td>63.13</td>\n",
              "      <td>215.0</td>\n",
              "    </tr>\n",
              "    <tr>\n",
              "      <th>2</th>\n",
              "      <td>2</td>\n",
              "      <td>2</td>\n",
              "      <td>9.0</td>\n",
              "      <td>58.76</td>\n",
              "      <td>105.0</td>\n",
              "    </tr>\n",
              "    <tr>\n",
              "      <th>3</th>\n",
              "      <td>1</td>\n",
              "      <td>1</td>\n",
              "      <td>8.0</td>\n",
              "      <td>34.88</td>\n",
              "      <td>69.0</td>\n",
              "    </tr>\n",
              "    <tr>\n",
              "      <th>4</th>\n",
              "      <td>2</td>\n",
              "      <td>2</td>\n",
              "      <td>10.0</td>\n",
              "      <td>55.53</td>\n",
              "      <td>134.0</td>\n",
              "    </tr>\n",
              "  </tbody>\n",
              "</table>\n",
              "</div>"
            ],
            "text/plain": [
              "   continent  brand  size  period  price\n",
              "0          2      2  10.7   47.65  144.0\n",
              "1          2      3  14.0   63.13  215.0\n",
              "2          2      2   9.0   58.76  105.0\n",
              "3          1      1   8.0   34.88   69.0\n",
              "4          2      2  10.0   55.53  134.0"
            ]
          },
          "execution_count": 38,
          "metadata": {},
          "output_type": "execute_result"
        }
      ],
      "source": [
        "# 데이터 프레임 처음부터 ~개의 행만 불러오기\n",
        "df.head()"
      ]
    },
    {
      "cell_type": "code",
      "execution_count": null,
      "metadata": {
        "id": "ir607Mae7XEV",
        "outputId": "fac3952a-32f1-41cb-be07-f822cc0fdb33"
      },
      "outputs": [
        {
          "data": {
            "text/html": [
              "<div>\n",
              "<style scoped>\n",
              "    .dataframe tbody tr th:only-of-type {\n",
              "        vertical-align: middle;\n",
              "    }\n",
              "\n",
              "    .dataframe tbody tr th {\n",
              "        vertical-align: top;\n",
              "    }\n",
              "\n",
              "    .dataframe thead th {\n",
              "        text-align: right;\n",
              "    }\n",
              "</style>\n",
              "<table border=\"1\" class=\"dataframe\">\n",
              "  <thead>\n",
              "    <tr style=\"text-align: right;\">\n",
              "      <th></th>\n",
              "      <th>continent</th>\n",
              "      <th>brand</th>\n",
              "      <th>size</th>\n",
              "      <th>period</th>\n",
              "      <th>price</th>\n",
              "    </tr>\n",
              "  </thead>\n",
              "  <tbody>\n",
              "    <tr>\n",
              "      <th>58</th>\n",
              "      <td>1</td>\n",
              "      <td>1</td>\n",
              "      <td>5.0</td>\n",
              "      <td>16.66</td>\n",
              "      <td>21.5</td>\n",
              "    </tr>\n",
              "    <tr>\n",
              "      <th>59</th>\n",
              "      <td>2</td>\n",
              "      <td>1</td>\n",
              "      <td>21.0</td>\n",
              "      <td>43.00</td>\n",
              "      <td>NaN</td>\n",
              "    </tr>\n",
              "    <tr>\n",
              "      <th>60</th>\n",
              "      <td>2</td>\n",
              "      <td>2</td>\n",
              "      <td>5.0</td>\n",
              "      <td>12.00</td>\n",
              "      <td>NaN</td>\n",
              "    </tr>\n",
              "    <tr>\n",
              "      <th>61</th>\n",
              "      <td>2</td>\n",
              "      <td>3</td>\n",
              "      <td>13.0</td>\n",
              "      <td>20.00</td>\n",
              "      <td>NaN</td>\n",
              "    </tr>\n",
              "    <tr>\n",
              "      <th>62</th>\n",
              "      <td>2</td>\n",
              "      <td>3</td>\n",
              "      <td>31.0</td>\n",
              "      <td>19.00</td>\n",
              "      <td>NaN</td>\n",
              "    </tr>\n",
              "  </tbody>\n",
              "</table>\n",
              "</div>"
            ],
            "text/plain": [
              "    continent  brand  size  period  price\n",
              "58          1      1   5.0   16.66   21.5\n",
              "59          2      1  21.0   43.00    NaN\n",
              "60          2      2   5.0   12.00    NaN\n",
              "61          2      3  13.0   20.00    NaN\n",
              "62          2      3  31.0   19.00    NaN"
            ]
          },
          "execution_count": 39,
          "metadata": {},
          "output_type": "execute_result"
        }
      ],
      "source": [
        "# 데이터 프레임 뒤부터 ~개의 행만 불러오기\n",
        "df.tail()"
      ]
    },
    {
      "cell_type": "code",
      "execution_count": null,
      "metadata": {
        "id": "MLtiLNrB7XEW",
        "outputId": "550ae708-bc22-4612-a86a-2e5250f653ca"
      },
      "outputs": [
        {
          "data": {
            "text/html": [
              "<div>\n",
              "<style scoped>\n",
              "    .dataframe tbody tr th:only-of-type {\n",
              "        vertical-align: middle;\n",
              "    }\n",
              "\n",
              "    .dataframe tbody tr th {\n",
              "        vertical-align: top;\n",
              "    }\n",
              "\n",
              "    .dataframe thead th {\n",
              "        text-align: right;\n",
              "    }\n",
              "</style>\n",
              "<table border=\"1\" class=\"dataframe\">\n",
              "  <thead>\n",
              "    <tr style=\"text-align: right;\">\n",
              "      <th></th>\n",
              "      <th>continent</th>\n",
              "      <th>brand</th>\n",
              "      <th>size</th>\n",
              "      <th>period</th>\n",
              "      <th>price</th>\n",
              "    </tr>\n",
              "  </thead>\n",
              "  <tbody>\n",
              "    <tr>\n",
              "      <th>1</th>\n",
              "      <td>2</td>\n",
              "      <td>3</td>\n",
              "      <td>14.0</td>\n",
              "      <td>63.13</td>\n",
              "      <td>215.0</td>\n",
              "    </tr>\n",
              "    <tr>\n",
              "      <th>2</th>\n",
              "      <td>2</td>\n",
              "      <td>2</td>\n",
              "      <td>9.0</td>\n",
              "      <td>58.76</td>\n",
              "      <td>105.0</td>\n",
              "    </tr>\n",
              "    <tr>\n",
              "      <th>3</th>\n",
              "      <td>1</td>\n",
              "      <td>1</td>\n",
              "      <td>8.0</td>\n",
              "      <td>34.88</td>\n",
              "      <td>69.0</td>\n",
              "    </tr>\n",
              "    <tr>\n",
              "      <th>4</th>\n",
              "      <td>2</td>\n",
              "      <td>2</td>\n",
              "      <td>10.0</td>\n",
              "      <td>55.53</td>\n",
              "      <td>134.0</td>\n",
              "    </tr>\n",
              "  </tbody>\n",
              "</table>\n",
              "</div>"
            ],
            "text/plain": [
              "   continent  brand  size  period  price\n",
              "1          2      3  14.0   63.13  215.0\n",
              "2          2      2   9.0   58.76  105.0\n",
              "3          1      1   8.0   34.88   69.0\n",
              "4          2      2  10.0   55.53  134.0"
            ]
          },
          "execution_count": 40,
          "metadata": {},
          "output_type": "execute_result"
        }
      ],
      "source": [
        "# 1에서 4까지 출력\n",
        "df[1:5]"
      ]
    },
    {
      "cell_type": "code",
      "execution_count": null,
      "metadata": {
        "id": "bT7TGFua7XEW",
        "outputId": "dda73dbf-2a62-4d4c-a9c7-83a46f459311"
      },
      "outputs": [
        {
          "data": {
            "text/html": [
              "<div>\n",
              "<style scoped>\n",
              "    .dataframe tbody tr th:only-of-type {\n",
              "        vertical-align: middle;\n",
              "    }\n",
              "\n",
              "    .dataframe tbody tr th {\n",
              "        vertical-align: top;\n",
              "    }\n",
              "\n",
              "    .dataframe thead th {\n",
              "        text-align: right;\n",
              "    }\n",
              "</style>\n",
              "<table border=\"1\" class=\"dataframe\">\n",
              "  <thead>\n",
              "    <tr style=\"text-align: right;\">\n",
              "      <th></th>\n",
              "      <th>continent</th>\n",
              "      <th>brand</th>\n",
              "      <th>size</th>\n",
              "      <th>period</th>\n",
              "      <th>price</th>\n",
              "    </tr>\n",
              "  </thead>\n",
              "  <tbody>\n",
              "    <tr>\n",
              "      <th>0</th>\n",
              "      <td>2</td>\n",
              "      <td>2</td>\n",
              "      <td>10.7</td>\n",
              "      <td>47.65</td>\n",
              "      <td>144.0</td>\n",
              "    </tr>\n",
              "    <tr>\n",
              "      <th>1</th>\n",
              "      <td>2</td>\n",
              "      <td>3</td>\n",
              "      <td>14.0</td>\n",
              "      <td>63.13</td>\n",
              "      <td>215.0</td>\n",
              "    </tr>\n",
              "    <tr>\n",
              "      <th>2</th>\n",
              "      <td>2</td>\n",
              "      <td>2</td>\n",
              "      <td>9.0</td>\n",
              "      <td>58.76</td>\n",
              "      <td>105.0</td>\n",
              "    </tr>\n",
              "  </tbody>\n",
              "</table>\n",
              "</div>"
            ],
            "text/plain": [
              "   continent  brand  size  period  price\n",
              "0          2      2  10.7   47.65  144.0\n",
              "1          2      3  14.0   63.13  215.0\n",
              "2          2      2   9.0   58.76  105.0"
            ]
          },
          "execution_count": 41,
          "metadata": {},
          "output_type": "execute_result"
        }
      ],
      "source": [
        "# 처음부터 2까지 출력\n",
        "df[:3]"
      ]
    },
    {
      "cell_type": "code",
      "execution_count": null,
      "metadata": {
        "id": "C4-EOGUN7XEX",
        "outputId": "b818b4d9-9885-44bb-f62e-85ba9f74c1ea"
      },
      "outputs": [
        {
          "data": {
            "text/html": [
              "<div>\n",
              "<style scoped>\n",
              "    .dataframe tbody tr th:only-of-type {\n",
              "        vertical-align: middle;\n",
              "    }\n",
              "\n",
              "    .dataframe tbody tr th {\n",
              "        vertical-align: top;\n",
              "    }\n",
              "\n",
              "    .dataframe thead th {\n",
              "        text-align: right;\n",
              "    }\n",
              "</style>\n",
              "<table border=\"1\" class=\"dataframe\">\n",
              "  <thead>\n",
              "    <tr style=\"text-align: right;\">\n",
              "      <th></th>\n",
              "      <th>continent</th>\n",
              "      <th>brand</th>\n",
              "      <th>size</th>\n",
              "      <th>period</th>\n",
              "      <th>price</th>\n",
              "    </tr>\n",
              "  </thead>\n",
              "  <tbody>\n",
              "    <tr>\n",
              "      <th>60</th>\n",
              "      <td>2</td>\n",
              "      <td>2</td>\n",
              "      <td>5.0</td>\n",
              "      <td>12.0</td>\n",
              "      <td>NaN</td>\n",
              "    </tr>\n",
              "    <tr>\n",
              "      <th>61</th>\n",
              "      <td>2</td>\n",
              "      <td>3</td>\n",
              "      <td>13.0</td>\n",
              "      <td>20.0</td>\n",
              "      <td>NaN</td>\n",
              "    </tr>\n",
              "    <tr>\n",
              "      <th>62</th>\n",
              "      <td>2</td>\n",
              "      <td>3</td>\n",
              "      <td>31.0</td>\n",
              "      <td>19.0</td>\n",
              "      <td>NaN</td>\n",
              "    </tr>\n",
              "  </tbody>\n",
              "</table>\n",
              "</div>"
            ],
            "text/plain": [
              "    continent  brand  size  period  price\n",
              "60          2      2   5.0    12.0    NaN\n",
              "61          2      3  13.0    20.0    NaN\n",
              "62          2      3  31.0    19.0    NaN"
            ]
          },
          "execution_count": 42,
          "metadata": {},
          "output_type": "execute_result"
        }
      ],
      "source": [
        "# 60에서 끝까지 출력\n",
        "df[60:]"
      ]
    },
    {
      "cell_type": "code",
      "execution_count": null,
      "metadata": {
        "id": "PTqBKBXB7XEX",
        "outputId": "df8e83c3-011a-4c6b-eb3f-667078ef47b9"
      },
      "outputs": [
        {
          "data": {
            "text/plain": [
              "0     144.0\n",
              "1     215.0\n",
              "2     105.0\n",
              "3      69.0\n",
              "4     134.0\n",
              "      ...  \n",
              "58     21.5\n",
              "59      NaN\n",
              "60      NaN\n",
              "61      NaN\n",
              "62      NaN\n",
              "Name: price, Length: 63, dtype: float64"
            ]
          },
          "execution_count": 43,
          "metadata": {},
          "output_type": "execute_result"
        }
      ],
      "source": [
        "# price 변수(열) 불러오기: series 형태\n",
        "df['price'] # df.price으로 대체 가능"
      ]
    },
    {
      "cell_type": "code",
      "execution_count": null,
      "metadata": {
        "id": "JU8yRyjb7XEX",
        "outputId": "dd6ec6ff-c5a4-4512-8d4c-ccfe7ab73583"
      },
      "outputs": [
        {
          "data": {
            "text/html": [
              "<div>\n",
              "<style scoped>\n",
              "    .dataframe tbody tr th:only-of-type {\n",
              "        vertical-align: middle;\n",
              "    }\n",
              "\n",
              "    .dataframe tbody tr th {\n",
              "        vertical-align: top;\n",
              "    }\n",
              "\n",
              "    .dataframe thead th {\n",
              "        text-align: right;\n",
              "    }\n",
              "</style>\n",
              "<table border=\"1\" class=\"dataframe\">\n",
              "  <thead>\n",
              "    <tr style=\"text-align: right;\">\n",
              "      <th></th>\n",
              "      <th>price</th>\n",
              "    </tr>\n",
              "  </thead>\n",
              "  <tbody>\n",
              "    <tr>\n",
              "      <th>0</th>\n",
              "      <td>144.0</td>\n",
              "    </tr>\n",
              "    <tr>\n",
              "      <th>1</th>\n",
              "      <td>215.0</td>\n",
              "    </tr>\n",
              "    <tr>\n",
              "      <th>2</th>\n",
              "      <td>105.0</td>\n",
              "    </tr>\n",
              "    <tr>\n",
              "      <th>3</th>\n",
              "      <td>69.0</td>\n",
              "    </tr>\n",
              "    <tr>\n",
              "      <th>4</th>\n",
              "      <td>134.0</td>\n",
              "    </tr>\n",
              "    <tr>\n",
              "      <th>...</th>\n",
              "      <td>...</td>\n",
              "    </tr>\n",
              "    <tr>\n",
              "      <th>58</th>\n",
              "      <td>21.5</td>\n",
              "    </tr>\n",
              "    <tr>\n",
              "      <th>59</th>\n",
              "      <td>NaN</td>\n",
              "    </tr>\n",
              "    <tr>\n",
              "      <th>60</th>\n",
              "      <td>NaN</td>\n",
              "    </tr>\n",
              "    <tr>\n",
              "      <th>61</th>\n",
              "      <td>NaN</td>\n",
              "    </tr>\n",
              "    <tr>\n",
              "      <th>62</th>\n",
              "      <td>NaN</td>\n",
              "    </tr>\n",
              "  </tbody>\n",
              "</table>\n",
              "<p>63 rows × 1 columns</p>\n",
              "</div>"
            ],
            "text/plain": [
              "    price\n",
              "0   144.0\n",
              "1   215.0\n",
              "2   105.0\n",
              "3    69.0\n",
              "4   134.0\n",
              "..    ...\n",
              "58   21.5\n",
              "59    NaN\n",
              "60    NaN\n",
              "61    NaN\n",
              "62    NaN\n",
              "\n",
              "[63 rows x 1 columns]"
            ]
          },
          "execution_count": 44,
          "metadata": {},
          "output_type": "execute_result"
        }
      ],
      "source": [
        "# price 변수(열) 불러오기: DataFrame 형태\n",
        "df[['price']]"
      ]
    },
    {
      "cell_type": "code",
      "execution_count": null,
      "metadata": {
        "id": "8o-teGhA7XEX",
        "outputId": "a9232bbb-6e95-4c75-ea23-4ed76c3f9053"
      },
      "outputs": [
        {
          "data": {
            "text/html": [
              "<div>\n",
              "<style scoped>\n",
              "    .dataframe tbody tr th:only-of-type {\n",
              "        vertical-align: middle;\n",
              "    }\n",
              "\n",
              "    .dataframe tbody tr th {\n",
              "        vertical-align: top;\n",
              "    }\n",
              "\n",
              "    .dataframe thead th {\n",
              "        text-align: right;\n",
              "    }\n",
              "</style>\n",
              "<table border=\"1\" class=\"dataframe\">\n",
              "  <thead>\n",
              "    <tr style=\"text-align: right;\">\n",
              "      <th></th>\n",
              "      <th>continent</th>\n",
              "      <th>size</th>\n",
              "      <th>price</th>\n",
              "    </tr>\n",
              "  </thead>\n",
              "  <tbody>\n",
              "    <tr>\n",
              "      <th>0</th>\n",
              "      <td>2</td>\n",
              "      <td>10.7</td>\n",
              "      <td>144.0</td>\n",
              "    </tr>\n",
              "    <tr>\n",
              "      <th>1</th>\n",
              "      <td>2</td>\n",
              "      <td>14.0</td>\n",
              "      <td>215.0</td>\n",
              "    </tr>\n",
              "    <tr>\n",
              "      <th>2</th>\n",
              "      <td>2</td>\n",
              "      <td>9.0</td>\n",
              "      <td>105.0</td>\n",
              "    </tr>\n",
              "    <tr>\n",
              "      <th>3</th>\n",
              "      <td>1</td>\n",
              "      <td>8.0</td>\n",
              "      <td>69.0</td>\n",
              "    </tr>\n",
              "    <tr>\n",
              "      <th>4</th>\n",
              "      <td>2</td>\n",
              "      <td>10.0</td>\n",
              "      <td>134.0</td>\n",
              "    </tr>\n",
              "    <tr>\n",
              "      <th>...</th>\n",
              "      <td>...</td>\n",
              "      <td>...</td>\n",
              "      <td>...</td>\n",
              "    </tr>\n",
              "    <tr>\n",
              "      <th>58</th>\n",
              "      <td>1</td>\n",
              "      <td>5.0</td>\n",
              "      <td>21.5</td>\n",
              "    </tr>\n",
              "    <tr>\n",
              "      <th>59</th>\n",
              "      <td>2</td>\n",
              "      <td>21.0</td>\n",
              "      <td>NaN</td>\n",
              "    </tr>\n",
              "    <tr>\n",
              "      <th>60</th>\n",
              "      <td>2</td>\n",
              "      <td>5.0</td>\n",
              "      <td>NaN</td>\n",
              "    </tr>\n",
              "    <tr>\n",
              "      <th>61</th>\n",
              "      <td>2</td>\n",
              "      <td>13.0</td>\n",
              "      <td>NaN</td>\n",
              "    </tr>\n",
              "    <tr>\n",
              "      <th>62</th>\n",
              "      <td>2</td>\n",
              "      <td>31.0</td>\n",
              "      <td>NaN</td>\n",
              "    </tr>\n",
              "  </tbody>\n",
              "</table>\n",
              "<p>63 rows × 3 columns</p>\n",
              "</div>"
            ],
            "text/plain": [
              "    continent  size  price\n",
              "0           2  10.7  144.0\n",
              "1           2  14.0  215.0\n",
              "2           2   9.0  105.0\n",
              "3           1   8.0   69.0\n",
              "4           2  10.0  134.0\n",
              "..        ...   ...    ...\n",
              "58          1   5.0   21.5\n",
              "59          2  21.0    NaN\n",
              "60          2   5.0    NaN\n",
              "61          2  13.0    NaN\n",
              "62          2  31.0    NaN\n",
              "\n",
              "[63 rows x 3 columns]"
            ]
          },
          "execution_count": 45,
          "metadata": {},
          "output_type": "execute_result"
        }
      ],
      "source": [
        "# 0번, 2번, 4번째 열(컬럼)만 출력\n",
        "df[df.columns[[0,2,4]]]"
      ]
    },
    {
      "cell_type": "code",
      "execution_count": null,
      "metadata": {
        "id": "H9-T8V1X7XEY",
        "outputId": "0cb87749-e563-4f54-937e-81de055b311c"
      },
      "outputs": [
        {
          "data": {
            "text/html": [
              "<div>\n",
              "<style scoped>\n",
              "    .dataframe tbody tr th:only-of-type {\n",
              "        vertical-align: middle;\n",
              "    }\n",
              "\n",
              "    .dataframe tbody tr th {\n",
              "        vertical-align: top;\n",
              "    }\n",
              "\n",
              "    .dataframe thead th {\n",
              "        text-align: right;\n",
              "    }\n",
              "</style>\n",
              "<table border=\"1\" class=\"dataframe\">\n",
              "  <thead>\n",
              "    <tr style=\"text-align: right;\">\n",
              "      <th></th>\n",
              "      <th>size</th>\n",
              "      <th>period</th>\n",
              "      <th>price</th>\n",
              "    </tr>\n",
              "  </thead>\n",
              "  <tbody>\n",
              "    <tr>\n",
              "      <th>0</th>\n",
              "      <td>10.7</td>\n",
              "      <td>47.65</td>\n",
              "      <td>144.0</td>\n",
              "    </tr>\n",
              "    <tr>\n",
              "      <th>1</th>\n",
              "      <td>14.0</td>\n",
              "      <td>63.13</td>\n",
              "      <td>215.0</td>\n",
              "    </tr>\n",
              "    <tr>\n",
              "      <th>2</th>\n",
              "      <td>9.0</td>\n",
              "      <td>58.76</td>\n",
              "      <td>105.0</td>\n",
              "    </tr>\n",
              "    <tr>\n",
              "      <th>3</th>\n",
              "      <td>8.0</td>\n",
              "      <td>34.88</td>\n",
              "      <td>69.0</td>\n",
              "    </tr>\n",
              "    <tr>\n",
              "      <th>4</th>\n",
              "      <td>10.0</td>\n",
              "      <td>55.53</td>\n",
              "      <td>134.0</td>\n",
              "    </tr>\n",
              "    <tr>\n",
              "      <th>...</th>\n",
              "      <td>...</td>\n",
              "      <td>...</td>\n",
              "      <td>...</td>\n",
              "    </tr>\n",
              "    <tr>\n",
              "      <th>58</th>\n",
              "      <td>5.0</td>\n",
              "      <td>16.66</td>\n",
              "      <td>21.5</td>\n",
              "    </tr>\n",
              "    <tr>\n",
              "      <th>59</th>\n",
              "      <td>21.0</td>\n",
              "      <td>43.00</td>\n",
              "      <td>NaN</td>\n",
              "    </tr>\n",
              "    <tr>\n",
              "      <th>60</th>\n",
              "      <td>5.0</td>\n",
              "      <td>12.00</td>\n",
              "      <td>NaN</td>\n",
              "    </tr>\n",
              "    <tr>\n",
              "      <th>61</th>\n",
              "      <td>13.0</td>\n",
              "      <td>20.00</td>\n",
              "      <td>NaN</td>\n",
              "    </tr>\n",
              "    <tr>\n",
              "      <th>62</th>\n",
              "      <td>31.0</td>\n",
              "      <td>19.00</td>\n",
              "      <td>NaN</td>\n",
              "    </tr>\n",
              "  </tbody>\n",
              "</table>\n",
              "<p>63 rows × 3 columns</p>\n",
              "</div>"
            ],
            "text/plain": [
              "    size  period  price\n",
              "0   10.7   47.65  144.0\n",
              "1   14.0   63.13  215.0\n",
              "2    9.0   58.76  105.0\n",
              "3    8.0   34.88   69.0\n",
              "4   10.0   55.53  134.0\n",
              "..   ...     ...    ...\n",
              "58   5.0   16.66   21.5\n",
              "59  21.0   43.00    NaN\n",
              "60   5.0   12.00    NaN\n",
              "61  13.0   20.00    NaN\n",
              "62  31.0   19.00    NaN\n",
              "\n",
              "[63 rows x 3 columns]"
            ]
          },
          "execution_count": 46,
          "metadata": {},
          "output_type": "execute_result"
        }
      ],
      "source": [
        "# size부터 price까지 출력\n",
        "df.loc[:, 'size':'price']"
      ]
    },
    {
      "cell_type": "code",
      "execution_count": null,
      "metadata": {
        "id": "lAUYmNQI7XEY",
        "outputId": "e88f9df9-ee0d-4c02-f8cd-2319b3bcd563"
      },
      "outputs": [
        {
          "data": {
            "text/html": [
              "<div>\n",
              "<style scoped>\n",
              "    .dataframe tbody tr th:only-of-type {\n",
              "        vertical-align: middle;\n",
              "    }\n",
              "\n",
              "    .dataframe tbody tr th {\n",
              "        vertical-align: top;\n",
              "    }\n",
              "\n",
              "    .dataframe thead th {\n",
              "        text-align: right;\n",
              "    }\n",
              "</style>\n",
              "<table border=\"1\" class=\"dataframe\">\n",
              "  <thead>\n",
              "    <tr style=\"text-align: right;\">\n",
              "      <th></th>\n",
              "      <th>continent</th>\n",
              "      <th>brand</th>\n",
              "    </tr>\n",
              "  </thead>\n",
              "  <tbody>\n",
              "    <tr>\n",
              "      <th>1</th>\n",
              "      <td>2</td>\n",
              "      <td>3</td>\n",
              "    </tr>\n",
              "    <tr>\n",
              "      <th>2</th>\n",
              "      <td>2</td>\n",
              "      <td>2</td>\n",
              "    </tr>\n",
              "    <tr>\n",
              "      <th>3</th>\n",
              "      <td>1</td>\n",
              "      <td>1</td>\n",
              "    </tr>\n",
              "    <tr>\n",
              "      <th>4</th>\n",
              "      <td>2</td>\n",
              "      <td>2</td>\n",
              "    </tr>\n",
              "    <tr>\n",
              "      <th>5</th>\n",
              "      <td>2</td>\n",
              "      <td>2</td>\n",
              "    </tr>\n",
              "    <tr>\n",
              "      <th>6</th>\n",
              "      <td>2</td>\n",
              "      <td>2</td>\n",
              "    </tr>\n",
              "  </tbody>\n",
              "</table>\n",
              "</div>"
            ],
            "text/plain": [
              "   continent  brand\n",
              "1          2      3\n",
              "2          2      2\n",
              "3          1      1\n",
              "4          2      2\n",
              "5          2      2\n",
              "6          2      2"
            ]
          },
          "execution_count": 47,
          "metadata": {},
          "output_type": "execute_result"
        }
      ],
      "source": [
        "# 1~7행(케이스), 0~2열(변수)만 불러오기\n",
        "df.iloc[1:7, 0:2]"
      ]
    },
    {
      "cell_type": "code",
      "execution_count": null,
      "metadata": {
        "id": "WqRl_YIl7XEY",
        "outputId": "002288cb-653d-4ff6-ab18-6a8a80de4c5e"
      },
      "outputs": [
        {
          "data": {
            "text/plain": [
              "129.0"
            ]
          },
          "execution_count": 48,
          "metadata": {},
          "output_type": "execute_result"
        }
      ],
      "source": [
        "# 5행(케이스)의 price 변수 해당 값 불러오기\n",
        "df.at[5, 'price']"
      ]
    },
    {
      "cell_type": "markdown",
      "metadata": {
        "id": "KgcRDrnR7XEZ"
      },
      "source": [
        "## 5.3 데이터 변환하기"
      ]
    },
    {
      "cell_type": "markdown",
      "metadata": {
        "id": "ws4gZdDH7XEZ"
      },
      "source": [
        "### 가. 복사, 추가, 삭제"
      ]
    },
    {
      "cell_type": "code",
      "execution_count": null,
      "metadata": {
        "id": "CD4xH6Pz7XEZ"
      },
      "outputs": [],
      "source": [
        "#데이터 프레임 전체 복사 (백업)\n",
        "df_columns = df.copy()"
      ]
    },
    {
      "cell_type": "code",
      "execution_count": null,
      "metadata": {
        "id": "6L-kYu7g7XEZ",
        "outputId": "48a62407-701e-4e18-a3a4-8a7d9eaa6e83"
      },
      "outputs": [
        {
          "data": {
            "text/plain": [
              "Index(['continent', 'brand', 'size', 'period', 'price'], dtype='object')"
            ]
          },
          "execution_count": 50,
          "metadata": {},
          "output_type": "execute_result"
        }
      ],
      "source": [
        "#데이터 프레임의 열(변수) 이름 확인\n",
        "df_columns.columns"
      ]
    },
    {
      "cell_type": "code",
      "execution_count": null,
      "metadata": {
        "id": "SDKWcuWv7XEa",
        "outputId": "513ccad5-d20e-4180-d9fc-bb84d595b592"
      },
      "outputs": [
        {
          "data": {
            "text/html": [
              "<div>\n",
              "<style scoped>\n",
              "    .dataframe tbody tr th:only-of-type {\n",
              "        vertical-align: middle;\n",
              "    }\n",
              "\n",
              "    .dataframe tbody tr th {\n",
              "        vertical-align: top;\n",
              "    }\n",
              "\n",
              "    .dataframe thead th {\n",
              "        text-align: right;\n",
              "    }\n",
              "</style>\n",
              "<table border=\"1\" class=\"dataframe\">\n",
              "  <thead>\n",
              "    <tr style=\"text-align: right;\">\n",
              "      <th></th>\n",
              "      <th>size</th>\n",
              "      <th>period</th>\n",
              "      <th>price</th>\n",
              "    </tr>\n",
              "  </thead>\n",
              "  <tbody>\n",
              "    <tr>\n",
              "      <th>0</th>\n",
              "      <td>10.7</td>\n",
              "      <td>47.65</td>\n",
              "      <td>144.0</td>\n",
              "    </tr>\n",
              "    <tr>\n",
              "      <th>1</th>\n",
              "      <td>14.0</td>\n",
              "      <td>63.13</td>\n",
              "      <td>215.0</td>\n",
              "    </tr>\n",
              "    <tr>\n",
              "      <th>2</th>\n",
              "      <td>9.0</td>\n",
              "      <td>58.76</td>\n",
              "      <td>105.0</td>\n",
              "    </tr>\n",
              "    <tr>\n",
              "      <th>3</th>\n",
              "      <td>8.0</td>\n",
              "      <td>34.88</td>\n",
              "      <td>69.0</td>\n",
              "    </tr>\n",
              "    <tr>\n",
              "      <th>4</th>\n",
              "      <td>10.0</td>\n",
              "      <td>55.53</td>\n",
              "      <td>134.0</td>\n",
              "    </tr>\n",
              "  </tbody>\n",
              "</table>\n",
              "</div>"
            ],
            "text/plain": [
              "   size  period  price\n",
              "0  10.7   47.65  144.0\n",
              "1  14.0   63.13  215.0\n",
              "2   9.0   58.76  105.0\n",
              "3   8.0   34.88   69.0\n",
              "4  10.0   55.53  134.0"
            ]
          },
          "execution_count": 51,
          "metadata": {},
          "output_type": "execute_result"
        }
      ],
      "source": [
        "#데이터 프레임 열 필터링\n",
        "df_columns = df_columns[['size','period','price']]\n",
        "df_columns.head()"
      ]
    },
    {
      "cell_type": "markdown",
      "metadata": {
        "id": "hMkMdYN87XEa"
      },
      "source": [
        "### 나. 변수이름 변경, 행추가 및 삭제"
      ]
    },
    {
      "cell_type": "code",
      "execution_count": null,
      "metadata": {
        "id": "S9SveZ3f7XEb",
        "outputId": "370a5826-9283-4e11-ea92-ffe7dad69b68"
      },
      "outputs": [
        {
          "data": {
            "text/plain": [
              "Index(['size', 'time', 'price'], dtype='object')"
            ]
          },
          "execution_count": 52,
          "metadata": {},
          "output_type": "execute_result"
        }
      ],
      "source": [
        "# 데이터 열(변수) 이름 수정: period -> time\n",
        "df_columns.rename(columns={'period': 'time'}, inplace=True)\n",
        "df_columns.columns"
      ]
    },
    {
      "cell_type": "code",
      "execution_count": null,
      "metadata": {
        "id": "HK8MmFx87XEc",
        "outputId": "9aadbc02-5c11-4a97-de49-e3a5f25d1be5"
      },
      "outputs": [
        {
          "data": {
            "text/html": [
              "<div>\n",
              "<style scoped>\n",
              "    .dataframe tbody tr th:only-of-type {\n",
              "        vertical-align: middle;\n",
              "    }\n",
              "\n",
              "    .dataframe tbody tr th {\n",
              "        vertical-align: top;\n",
              "    }\n",
              "\n",
              "    .dataframe thead th {\n",
              "        text-align: right;\n",
              "    }\n",
              "</style>\n",
              "<table border=\"1\" class=\"dataframe\">\n",
              "  <thead>\n",
              "    <tr style=\"text-align: right;\">\n",
              "      <th></th>\n",
              "      <th>size</th>\n",
              "      <th>time</th>\n",
              "      <th>price</th>\n",
              "      <th>growth</th>\n",
              "    </tr>\n",
              "  </thead>\n",
              "  <tbody>\n",
              "    <tr>\n",
              "      <th>0</th>\n",
              "      <td>10.7</td>\n",
              "      <td>47.65</td>\n",
              "      <td>144.0</td>\n",
              "      <td>0.224554</td>\n",
              "    </tr>\n",
              "    <tr>\n",
              "      <th>1</th>\n",
              "      <td>14.0</td>\n",
              "      <td>63.13</td>\n",
              "      <td>215.0</td>\n",
              "      <td>0.221765</td>\n",
              "    </tr>\n",
              "    <tr>\n",
              "      <th>2</th>\n",
              "      <td>9.0</td>\n",
              "      <td>58.76</td>\n",
              "      <td>105.0</td>\n",
              "      <td>0.153165</td>\n",
              "    </tr>\n",
              "    <tr>\n",
              "      <th>3</th>\n",
              "      <td>8.0</td>\n",
              "      <td>34.88</td>\n",
              "      <td>69.0</td>\n",
              "      <td>0.229358</td>\n",
              "    </tr>\n",
              "    <tr>\n",
              "      <th>4</th>\n",
              "      <td>10.0</td>\n",
              "      <td>55.53</td>\n",
              "      <td>134.0</td>\n",
              "      <td>0.180083</td>\n",
              "    </tr>\n",
              "  </tbody>\n",
              "</table>\n",
              "</div>"
            ],
            "text/plain": [
              "   size   time  price    growth\n",
              "0  10.7  47.65  144.0  0.224554\n",
              "1  14.0  63.13  215.0  0.221765\n",
              "2   9.0  58.76  105.0  0.153165\n",
              "3   8.0  34.88   69.0  0.229358\n",
              "4  10.0  55.53  134.0  0.180083"
            ]
          },
          "execution_count": 53,
          "metadata": {},
          "output_type": "execute_result"
        }
      ],
      "source": [
        "# size를 time으로 나누어 월별 포도크기로 계산하여 growth 변수 생성\n",
        "df_columns['growth']=df_columns['size']/df_columns['time']\n",
        "df_columns.head()"
      ]
    },
    {
      "cell_type": "code",
      "execution_count": null,
      "metadata": {
        "id": "QkWNFGmi7XEc"
      },
      "outputs": [],
      "source": [
        "# 특정 변수 삭제: growth 삭제\n",
        "del df_columns['growth']"
      ]
    },
    {
      "cell_type": "markdown",
      "metadata": {
        "id": "C1inD1b07XEc"
      },
      "source": [
        "### 다. 데이터 케이스 추출"
      ]
    },
    {
      "cell_type": "code",
      "execution_count": null,
      "metadata": {
        "id": "xQeNY8Qt7XEc",
        "outputId": "09ff8560-3000-4fc0-ef85-9e64d84799b6"
      },
      "outputs": [
        {
          "data": {
            "text/html": [
              "<div>\n",
              "<style scoped>\n",
              "    .dataframe tbody tr th:only-of-type {\n",
              "        vertical-align: middle;\n",
              "    }\n",
              "\n",
              "    .dataframe tbody tr th {\n",
              "        vertical-align: top;\n",
              "    }\n",
              "\n",
              "    .dataframe thead th {\n",
              "        text-align: right;\n",
              "    }\n",
              "</style>\n",
              "<table border=\"1\" class=\"dataframe\">\n",
              "  <thead>\n",
              "    <tr style=\"text-align: right;\">\n",
              "      <th></th>\n",
              "      <th>continent</th>\n",
              "      <th>brand</th>\n",
              "      <th>size</th>\n",
              "      <th>period</th>\n",
              "      <th>price</th>\n",
              "    </tr>\n",
              "  </thead>\n",
              "  <tbody>\n",
              "    <tr>\n",
              "      <th>3</th>\n",
              "      <td>1</td>\n",
              "      <td>1</td>\n",
              "      <td>8.0</td>\n",
              "      <td>34.88</td>\n",
              "      <td>69.0</td>\n",
              "    </tr>\n",
              "    <tr>\n",
              "      <th>11</th>\n",
              "      <td>1</td>\n",
              "      <td>1</td>\n",
              "      <td>10.4</td>\n",
              "      <td>17.67</td>\n",
              "      <td>54.0</td>\n",
              "    </tr>\n",
              "    <tr>\n",
              "      <th>12</th>\n",
              "      <td>1</td>\n",
              "      <td>1</td>\n",
              "      <td>7.4</td>\n",
              "      <td>16.41</td>\n",
              "      <td>39.0</td>\n",
              "    </tr>\n",
              "    <tr>\n",
              "      <th>13</th>\n",
              "      <td>1</td>\n",
              "      <td>1</td>\n",
              "      <td>5.4</td>\n",
              "      <td>12.02</td>\n",
              "      <td>29.5</td>\n",
              "    </tr>\n",
              "    <tr>\n",
              "      <th>16</th>\n",
              "      <td>1</td>\n",
              "      <td>1</td>\n",
              "      <td>6.0</td>\n",
              "      <td>23.21</td>\n",
              "      <td>42.0</td>\n",
              "    </tr>\n",
              "  </tbody>\n",
              "</table>\n",
              "</div>"
            ],
            "text/plain": [
              "    continent  brand  size  period  price\n",
              "3           1      1   8.0   34.88   69.0\n",
              "11          1      1  10.4   17.67   54.0\n",
              "12          1      1   7.4   16.41   39.0\n",
              "13          1      1   5.4   12.02   29.5\n",
              "16          1      1   6.0   23.21   42.0"
            ]
          },
          "execution_count": 55,
          "metadata": {},
          "output_type": "execute_result"
        }
      ],
      "source": [
        "# 특정 케이스 선택1: 집단선택\n",
        "df_continent_brand=df[(df['continent']==1) & (df['brand']==1)] \n",
        "df_continent_brand.head()"
      ]
    },
    {
      "cell_type": "code",
      "execution_count": null,
      "metadata": {
        "id": "BftSHhQA7XEd",
        "outputId": "8d3f2445-0e04-4237-e4c1-b8d50bbb1e93"
      },
      "outputs": [
        {
          "data": {
            "text/html": [
              "<div>\n",
              "<style scoped>\n",
              "    .dataframe tbody tr th:only-of-type {\n",
              "        vertical-align: middle;\n",
              "    }\n",
              "\n",
              "    .dataframe tbody tr th {\n",
              "        vertical-align: top;\n",
              "    }\n",
              "\n",
              "    .dataframe thead th {\n",
              "        text-align: right;\n",
              "    }\n",
              "</style>\n",
              "<table border=\"1\" class=\"dataframe\">\n",
              "  <thead>\n",
              "    <tr style=\"text-align: right;\">\n",
              "      <th></th>\n",
              "      <th>continent</th>\n",
              "      <th>brand</th>\n",
              "      <th>size</th>\n",
              "      <th>period</th>\n",
              "      <th>price</th>\n",
              "    </tr>\n",
              "  </thead>\n",
              "  <tbody>\n",
              "    <tr>\n",
              "      <th>0</th>\n",
              "      <td>2</td>\n",
              "      <td>2</td>\n",
              "      <td>10.7</td>\n",
              "      <td>47.65</td>\n",
              "      <td>144.0</td>\n",
              "    </tr>\n",
              "    <tr>\n",
              "      <th>1</th>\n",
              "      <td>2</td>\n",
              "      <td>3</td>\n",
              "      <td>14.0</td>\n",
              "      <td>63.13</td>\n",
              "      <td>215.0</td>\n",
              "    </tr>\n",
              "    <tr>\n",
              "      <th>4</th>\n",
              "      <td>2</td>\n",
              "      <td>2</td>\n",
              "      <td>10.0</td>\n",
              "      <td>55.53</td>\n",
              "      <td>134.0</td>\n",
              "    </tr>\n",
              "    <tr>\n",
              "      <th>5</th>\n",
              "      <td>2</td>\n",
              "      <td>2</td>\n",
              "      <td>10.5</td>\n",
              "      <td>43.14</td>\n",
              "      <td>129.0</td>\n",
              "    </tr>\n",
              "    <tr>\n",
              "      <th>6</th>\n",
              "      <td>2</td>\n",
              "      <td>2</td>\n",
              "      <td>16.0</td>\n",
              "      <td>54.86</td>\n",
              "      <td>155.0</td>\n",
              "    </tr>\n",
              "  </tbody>\n",
              "</table>\n",
              "</div>"
            ],
            "text/plain": [
              "   continent  brand  size  period  price\n",
              "0          2      2  10.7   47.65  144.0\n",
              "1          2      3  14.0   63.13  215.0\n",
              "4          2      2  10.0   55.53  134.0\n",
              "5          2      2  10.5   43.14  129.0\n",
              "6          2      2  16.0   54.86  155.0"
            ]
          },
          "execution_count": 56,
          "metadata": {},
          "output_type": "execute_result"
        }
      ],
      "source": [
        "# 특정 케이스 선택2: 기준값 이상 혹은 이하 선택\n",
        "df_over_size_period=df[(df['size']>=10) & (df['period']>=30)] \n",
        "df_over_size_period.head()"
      ]
    },
    {
      "cell_type": "markdown",
      "metadata": {
        "id": "PapqvJer7XEd"
      },
      "source": [
        "### 라. 코딩변경"
      ]
    },
    {
      "cell_type": "code",
      "execution_count": null,
      "metadata": {
        "id": "7cotwOUm7XEd",
        "outputId": "ddf9d9c8-7caf-4291-b5e2-bf6964aaaf81"
      },
      "outputs": [
        {
          "data": {
            "text/html": [
              "<div>\n",
              "<style scoped>\n",
              "    .dataframe tbody tr th:only-of-type {\n",
              "        vertical-align: middle;\n",
              "    }\n",
              "\n",
              "    .dataframe tbody tr th {\n",
              "        vertical-align: top;\n",
              "    }\n",
              "\n",
              "    .dataframe thead th {\n",
              "        text-align: right;\n",
              "    }\n",
              "</style>\n",
              "<table border=\"1\" class=\"dataframe\">\n",
              "  <thead>\n",
              "    <tr style=\"text-align: right;\">\n",
              "      <th></th>\n",
              "      <th>size</th>\n",
              "      <th>time</th>\n",
              "      <th>price</th>\n",
              "    </tr>\n",
              "  </thead>\n",
              "  <tbody>\n",
              "    <tr>\n",
              "      <th>0</th>\n",
              "      <td>10.7</td>\n",
              "      <td>47.65</td>\n",
              "      <td>144.0</td>\n",
              "    </tr>\n",
              "    <tr>\n",
              "      <th>1</th>\n",
              "      <td>14.0</td>\n",
              "      <td>63.13</td>\n",
              "      <td>215.0</td>\n",
              "    </tr>\n",
              "    <tr>\n",
              "      <th>2</th>\n",
              "      <td>9.0</td>\n",
              "      <td>58.76</td>\n",
              "      <td>105.0</td>\n",
              "    </tr>\n",
              "    <tr>\n",
              "      <th>3</th>\n",
              "      <td>8.0</td>\n",
              "      <td>34.88</td>\n",
              "      <td>69.0</td>\n",
              "    </tr>\n",
              "    <tr>\n",
              "      <th>4</th>\n",
              "      <td>10.0</td>\n",
              "      <td>55.53</td>\n",
              "      <td>134.0</td>\n",
              "    </tr>\n",
              "  </tbody>\n",
              "</table>\n",
              "</div>"
            ],
            "text/plain": [
              "   size   time  price\n",
              "0  10.7  47.65  144.0\n",
              "1  14.0  63.13  215.0\n",
              "2   9.0  58.76  105.0\n",
              "3   8.0  34.88   69.0\n",
              "4  10.0  55.53  134.0"
            ]
          },
          "execution_count": 57,
          "metadata": {},
          "output_type": "execute_result"
        }
      ],
      "source": [
        "df_columns.head()"
      ]
    },
    {
      "cell_type": "code",
      "execution_count": null,
      "metadata": {
        "id": "MgAmZdVY7XEe",
        "outputId": "c1aceda5-db73-4fea-f009-231fac3a578b"
      },
      "outputs": [
        {
          "data": {
            "text/plain": [
              "2    24\n",
              "1    23\n",
              "3    16\n",
              "Name: brand, dtype: int64"
            ]
          },
          "execution_count": 58,
          "metadata": {},
          "output_type": "execute_result"
        }
      ],
      "source": [
        "# brand 범주 카운트\n",
        "df['brand'].value_counts()"
      ]
    },
    {
      "cell_type": "markdown",
      "metadata": {
        "id": "KonLZ6rH7XEe"
      },
      "source": [
        "- 방법1) replace 사용"
      ]
    },
    {
      "cell_type": "code",
      "execution_count": null,
      "metadata": {
        "id": "yl5Z55Fa7XEe"
      },
      "outputs": [],
      "source": [
        "# brand 1, 2, 3 집단을 1, 2로 묶기 (1/2 ->1, 3->2)\n",
        "recode_brand = {\"brand\": {1: 1, 2: 1, 3: 2}}"
      ]
    },
    {
      "cell_type": "code",
      "execution_count": null,
      "metadata": {
        "id": "QidaJYZL7XEe",
        "outputId": "8618494b-4cc7-46d1-817d-60edb501b7da"
      },
      "outputs": [
        {
          "data": {
            "text/html": [
              "<div>\n",
              "<style scoped>\n",
              "    .dataframe tbody tr th:only-of-type {\n",
              "        vertical-align: middle;\n",
              "    }\n",
              "\n",
              "    .dataframe tbody tr th {\n",
              "        vertical-align: top;\n",
              "    }\n",
              "\n",
              "    .dataframe thead th {\n",
              "        text-align: right;\n",
              "    }\n",
              "</style>\n",
              "<table border=\"1\" class=\"dataframe\">\n",
              "  <thead>\n",
              "    <tr style=\"text-align: right;\">\n",
              "      <th></th>\n",
              "      <th>continent</th>\n",
              "      <th>brand</th>\n",
              "      <th>size</th>\n",
              "      <th>period</th>\n",
              "      <th>price</th>\n",
              "    </tr>\n",
              "  </thead>\n",
              "  <tbody>\n",
              "    <tr>\n",
              "      <th>0</th>\n",
              "      <td>2</td>\n",
              "      <td>1</td>\n",
              "      <td>10.7</td>\n",
              "      <td>47.65</td>\n",
              "      <td>144.0</td>\n",
              "    </tr>\n",
              "    <tr>\n",
              "      <th>1</th>\n",
              "      <td>2</td>\n",
              "      <td>2</td>\n",
              "      <td>14.0</td>\n",
              "      <td>63.13</td>\n",
              "      <td>215.0</td>\n",
              "    </tr>\n",
              "    <tr>\n",
              "      <th>2</th>\n",
              "      <td>2</td>\n",
              "      <td>1</td>\n",
              "      <td>9.0</td>\n",
              "      <td>58.76</td>\n",
              "      <td>105.0</td>\n",
              "    </tr>\n",
              "    <tr>\n",
              "      <th>3</th>\n",
              "      <td>1</td>\n",
              "      <td>1</td>\n",
              "      <td>8.0</td>\n",
              "      <td>34.88</td>\n",
              "      <td>69.0</td>\n",
              "    </tr>\n",
              "    <tr>\n",
              "      <th>4</th>\n",
              "      <td>2</td>\n",
              "      <td>1</td>\n",
              "      <td>10.0</td>\n",
              "      <td>55.53</td>\n",
              "      <td>134.0</td>\n",
              "    </tr>\n",
              "  </tbody>\n",
              "</table>\n",
              "</div>"
            ],
            "text/plain": [
              "   continent  brand  size  period  price\n",
              "0          2      1  10.7   47.65  144.0\n",
              "1          2      2  14.0   63.13  215.0\n",
              "2          2      1   9.0   58.76  105.0\n",
              "3          1      1   8.0   34.88   69.0\n",
              "4          2      1  10.0   55.53  134.0"
            ]
          },
          "execution_count": 60,
          "metadata": {},
          "output_type": "execute_result"
        }
      ],
      "source": [
        "df_recode1 = df.replace(recode_brand)\n",
        "df_recode1.head()"
      ]
    },
    {
      "cell_type": "code",
      "execution_count": null,
      "metadata": {
        "id": "Kcn8svQ57XEf",
        "outputId": "3c1f8c31-d209-4725-f089-fceecc6422b6"
      },
      "outputs": [
        {
          "data": {
            "text/plain": [
              "1    47\n",
              "2    16\n",
              "Name: brand, dtype: int64"
            ]
          },
          "execution_count": 61,
          "metadata": {},
          "output_type": "execute_result"
        }
      ],
      "source": [
        "df_recode1['brand'].value_counts()"
      ]
    },
    {
      "cell_type": "markdown",
      "metadata": {
        "id": "Px8Mxp3h7XEf"
      },
      "source": [
        "- 방법2) 함수정의 사용"
      ]
    },
    {
      "cell_type": "code",
      "execution_count": null,
      "metadata": {
        "id": "1UKX9m0v7XEf",
        "outputId": "bf12c811-6333-4bb0-e167-32a891015f2f"
      },
      "outputs": [
        {
          "data": {
            "text/html": [
              "<div>\n",
              "<style scoped>\n",
              "    .dataframe tbody tr th:only-of-type {\n",
              "        vertical-align: middle;\n",
              "    }\n",
              "\n",
              "    .dataframe tbody tr th {\n",
              "        vertical-align: top;\n",
              "    }\n",
              "\n",
              "    .dataframe thead th {\n",
              "        text-align: right;\n",
              "    }\n",
              "</style>\n",
              "<table border=\"1\" class=\"dataframe\">\n",
              "  <thead>\n",
              "    <tr style=\"text-align: right;\">\n",
              "      <th></th>\n",
              "      <th>continent</th>\n",
              "      <th>brand</th>\n",
              "      <th>size</th>\n",
              "      <th>period</th>\n",
              "      <th>price</th>\n",
              "      <th>re_brand</th>\n",
              "    </tr>\n",
              "  </thead>\n",
              "  <tbody>\n",
              "    <tr>\n",
              "      <th>0</th>\n",
              "      <td>2</td>\n",
              "      <td>2</td>\n",
              "      <td>10.7</td>\n",
              "      <td>47.65</td>\n",
              "      <td>144.0</td>\n",
              "      <td>1</td>\n",
              "    </tr>\n",
              "    <tr>\n",
              "      <th>1</th>\n",
              "      <td>2</td>\n",
              "      <td>3</td>\n",
              "      <td>14.0</td>\n",
              "      <td>63.13</td>\n",
              "      <td>215.0</td>\n",
              "      <td>2</td>\n",
              "    </tr>\n",
              "    <tr>\n",
              "      <th>2</th>\n",
              "      <td>2</td>\n",
              "      <td>2</td>\n",
              "      <td>9.0</td>\n",
              "      <td>58.76</td>\n",
              "      <td>105.0</td>\n",
              "      <td>1</td>\n",
              "    </tr>\n",
              "    <tr>\n",
              "      <th>3</th>\n",
              "      <td>1</td>\n",
              "      <td>1</td>\n",
              "      <td>8.0</td>\n",
              "      <td>34.88</td>\n",
              "      <td>69.0</td>\n",
              "      <td>1</td>\n",
              "    </tr>\n",
              "    <tr>\n",
              "      <th>4</th>\n",
              "      <td>2</td>\n",
              "      <td>2</td>\n",
              "      <td>10.0</td>\n",
              "      <td>55.53</td>\n",
              "      <td>134.0</td>\n",
              "      <td>1</td>\n",
              "    </tr>\n",
              "  </tbody>\n",
              "</table>\n",
              "</div>"
            ],
            "text/plain": [
              "   continent  brand  size  period  price  re_brand\n",
              "0          2      2  10.7   47.65  144.0         1\n",
              "1          2      3  14.0   63.13  215.0         2\n",
              "2          2      2   9.0   58.76  105.0         1\n",
              "3          1      1   8.0   34.88   69.0         1\n",
              "4          2      2  10.0   55.53  134.0         1"
            ]
          },
          "execution_count": 62,
          "metadata": {},
          "output_type": "execute_result"
        }
      ],
      "source": [
        "# 코딩변경 함수 정의\n",
        "def brand_groups(series):\n",
        "    if series==1:\n",
        "        return 1\n",
        "    elif series==2:\n",
        "        return 1\n",
        "    elif series==3:\n",
        "        return 2\n",
        "\n",
        "df['re_brand']=df['brand'].apply(brand_groups)\n",
        "df.head()"
      ]
    },
    {
      "cell_type": "markdown",
      "metadata": {
        "id": "xObX4Zlu7XEf"
      },
      "source": [
        "### 마. pandas와 numpy 전환"
      ]
    },
    {
      "cell_type": "code",
      "execution_count": null,
      "metadata": {
        "id": "OzTF6c2G7XEg",
        "outputId": "73c5c864-6c15-496e-fd9e-83e2139a5c87"
      },
      "outputs": [
        {
          "data": {
            "text/html": [
              "<div>\n",
              "<style scoped>\n",
              "    .dataframe tbody tr th:only-of-type {\n",
              "        vertical-align: middle;\n",
              "    }\n",
              "\n",
              "    .dataframe tbody tr th {\n",
              "        vertical-align: top;\n",
              "    }\n",
              "\n",
              "    .dataframe thead th {\n",
              "        text-align: right;\n",
              "    }\n",
              "</style>\n",
              "<table border=\"1\" class=\"dataframe\">\n",
              "  <thead>\n",
              "    <tr style=\"text-align: right;\">\n",
              "      <th></th>\n",
              "      <th>continent</th>\n",
              "      <th>brand</th>\n",
              "      <th>size</th>\n",
              "      <th>period</th>\n",
              "      <th>price</th>\n",
              "    </tr>\n",
              "  </thead>\n",
              "  <tbody>\n",
              "    <tr>\n",
              "      <th>0</th>\n",
              "      <td>2</td>\n",
              "      <td>2</td>\n",
              "      <td>10.7</td>\n",
              "      <td>47.65</td>\n",
              "      <td>144</td>\n",
              "    </tr>\n",
              "    <tr>\n",
              "      <th>1</th>\n",
              "      <td>2</td>\n",
              "      <td>3</td>\n",
              "      <td>14.0</td>\n",
              "      <td>63.13</td>\n",
              "      <td>215</td>\n",
              "    </tr>\n",
              "    <tr>\n",
              "      <th>2</th>\n",
              "      <td>2</td>\n",
              "      <td>2</td>\n",
              "      <td>9.0</td>\n",
              "      <td>58.76</td>\n",
              "      <td>105</td>\n",
              "    </tr>\n",
              "    <tr>\n",
              "      <th>3</th>\n",
              "      <td>1</td>\n",
              "      <td>1</td>\n",
              "      <td>8.0</td>\n",
              "      <td>34.88</td>\n",
              "      <td>69</td>\n",
              "    </tr>\n",
              "    <tr>\n",
              "      <th>4</th>\n",
              "      <td>2</td>\n",
              "      <td>2</td>\n",
              "      <td>10.0</td>\n",
              "      <td>55.53</td>\n",
              "      <td>134</td>\n",
              "    </tr>\n",
              "  </tbody>\n",
              "</table>\n",
              "</div>"
            ],
            "text/plain": [
              "   continent  brand  size  period price\n",
              "0          2      2  10.7   47.65   144\n",
              "1          2      3  14.0   63.13   215\n",
              "2          2      2   9.0   58.76   105\n",
              "3          1      1   8.0   34.88    69\n",
              "4          2      2  10.0   55.53   134"
            ]
          },
          "execution_count": 63,
          "metadata": {},
          "output_type": "execute_result"
        }
      ],
      "source": [
        "# pandas 형태로 데이터 불러와서 확인\n",
        "import pandas as pd\n",
        "df=pd.read_csv('EX_GrapeData.csv')\n",
        "df.head()"
      ]
    },
    {
      "cell_type": "code",
      "execution_count": null,
      "metadata": {
        "id": "-ysovSi97XEg",
        "outputId": "58d35d58-33ea-4533-df1f-26bf6e2a924f"
      },
      "outputs": [
        {
          "data": {
            "text/plain": [
              "array([[2, 2, 10.7, 47.65, '144'],\n",
              "       [2, 3, 14.0, 63.13, '215'],\n",
              "       [2, 2, 9.0, 58.76, '105'],\n",
              "       [1, 1, 8.0, 34.88, '69'],\n",
              "       [2, 2, 10.0, 55.53, '134'],\n",
              "       [2, 2, 10.5, 43.14, '129'],\n",
              "       [2, 2, 16.0, 54.86, '155'],\n",
              "       [2, 1, 15.0, 44.14, '99'],\n",
              "       [2, 1, 6.5, 17.46, '38.5'],\n",
              "       [2, 1, 5.0, 21.04, '36.5'],\n",
              "       [2, 2, 25.0, 109.38, '260'],\n",
              "       [1, 1, 10.4, 17.67, '54'],\n",
              "       [1, 1, 7.4, 16.41, '39'],\n",
              "       [1, 1, 5.4, 12.02, '29.5'],\n",
              "       [2, 2, 15.4, 49.48, '109'],\n",
              "       [2, 1, 12.4, 48.74, '89.5'],\n",
              "       [1, 1, 6.0, 23.21, '42'],\n",
              "       [1, 1, 9.0, 28.64, '65'],\n",
              "       [1, 3, 9.0, 44.95, '115'],\n",
              "       [1, 1, 12.4, 23.77, '49.5'],\n",
              "       [1, 1, 7.5, 20.21, '36.5'],\n",
              "       [1, 3, 14.0, 32.62, '109'],\n",
              "       [1, 1, 7.0, 17.84, '45'],\n",
              "       [1, 2, 9.0, 22.82, '58'],\n",
              "       [1, 2, 12.0, 29.48, '89'],\n",
              "       [1, 1, 5.5, 15.61, '30'],\n",
              "       [1, 2, 6.0, 13.25, '31'],\n",
              "       [1, 3, 12.0, 45.78, '119'],\n",
              "       [2, 1, 5.5, 26.53, '22'],\n",
              "       [1, 3, 14.2, 37.11, '109'],\n",
              "       [2, 2, 11.0, 45.12, '99'],\n",
              "       [1, 2, 16.0, 26.09, '99'],\n",
              "       [2, 3, 13.5, 68.63, '179'],\n",
              "       [2, 2, 11.1, 33.71, '99'],\n",
              "       [2, 3, 9.8, 44.45, '89'],\n",
              "       [1, 2, 10.0, 23.74, '75'],\n",
              "       [2, 3, 13.0, 86.42, '199'],\n",
              "       [1, 3, 13.0, 39.71, '93'],\n",
              "       [1, 2, 11.7, 26.52, '65'],\n",
              "       [2, 2, 12.3, 33.89, '74'],\n",
              "       [2, 3, 19.5, 64.3, '165'],\n",
              "       [1, 3, 15.2, 22.55, '99'],\n",
              "       [1, 1, 10.0, 31.86, '43.5'],\n",
              "       [1, 3, 11.0, 53.18, '94'],\n",
              "       [2, 3, 17.8, 74.48, '189'],\n",
              "       [2, 2, 11.5, 34.16, '75'],\n",
              "       [2, 1, 12.7, 31.46, '59.5'],\n",
              "       [1, 1, 8.0, 21.34, '42'],\n",
              "       [2, 1, 7.5, 20.83, '23'],\n",
              "       [1, 2, 9.0, 20.59, '52.5'],\n",
              "       [2, 2, 14.0, 33.7, '99'],\n",
              "       [2, 2, 12.4, 32.9, '89'],\n",
              "       [2, 2, 8.8, 27.76, '65'],\n",
              "       [1, 1, 8.5, 30.2, '54.5'],\n",
              "       [1, 1, 6.0, 20.85, '24.5'],\n",
              "       [1, 2, 11.0, 26.25, '52'],\n",
              "       [1, 2, 11.1, 21.87, '62.5'],\n",
              "       [1, 3, 14.5, 23.88, '89'],\n",
              "       [1, 1, 5.0, 16.66, '21.5'],\n",
              "       [2, 1, 21.0, 43.0, ' '],\n",
              "       [2, 2, 5.0, 12.0, ' '],\n",
              "       [2, 3, 13.0, 20.0, ' '],\n",
              "       [2, 3, 31.0, 19.0, ' ']], dtype=object)"
            ]
          },
          "execution_count": 64,
          "metadata": {},
          "output_type": "execute_result"
        }
      ],
      "source": [
        "# pandas를 numpy로 변환\n",
        "df_num=df.to_numpy()\n",
        "df_num"
      ]
    },
    {
      "cell_type": "code",
      "execution_count": null,
      "metadata": {
        "id": "_ChyL0YS7XEg",
        "outputId": "39072c6a-19be-4b84-e230-0340f07db1c5"
      },
      "outputs": [
        {
          "data": {
            "text/html": [
              "<div>\n",
              "<style scoped>\n",
              "    .dataframe tbody tr th:only-of-type {\n",
              "        vertical-align: middle;\n",
              "    }\n",
              "\n",
              "    .dataframe tbody tr th {\n",
              "        vertical-align: top;\n",
              "    }\n",
              "\n",
              "    .dataframe thead th {\n",
              "        text-align: right;\n",
              "    }\n",
              "</style>\n",
              "<table border=\"1\" class=\"dataframe\">\n",
              "  <thead>\n",
              "    <tr style=\"text-align: right;\">\n",
              "      <th></th>\n",
              "      <th>0</th>\n",
              "      <th>1</th>\n",
              "      <th>2</th>\n",
              "      <th>3</th>\n",
              "      <th>4</th>\n",
              "    </tr>\n",
              "  </thead>\n",
              "  <tbody>\n",
              "    <tr>\n",
              "      <th>0</th>\n",
              "      <td>2</td>\n",
              "      <td>2</td>\n",
              "      <td>10.7</td>\n",
              "      <td>47.65</td>\n",
              "      <td>144</td>\n",
              "    </tr>\n",
              "    <tr>\n",
              "      <th>1</th>\n",
              "      <td>2</td>\n",
              "      <td>3</td>\n",
              "      <td>14.0</td>\n",
              "      <td>63.13</td>\n",
              "      <td>215</td>\n",
              "    </tr>\n",
              "    <tr>\n",
              "      <th>2</th>\n",
              "      <td>2</td>\n",
              "      <td>2</td>\n",
              "      <td>9.0</td>\n",
              "      <td>58.76</td>\n",
              "      <td>105</td>\n",
              "    </tr>\n",
              "    <tr>\n",
              "      <th>3</th>\n",
              "      <td>1</td>\n",
              "      <td>1</td>\n",
              "      <td>8.0</td>\n",
              "      <td>34.88</td>\n",
              "      <td>69</td>\n",
              "    </tr>\n",
              "    <tr>\n",
              "      <th>4</th>\n",
              "      <td>2</td>\n",
              "      <td>2</td>\n",
              "      <td>10.0</td>\n",
              "      <td>55.53</td>\n",
              "      <td>134</td>\n",
              "    </tr>\n",
              "  </tbody>\n",
              "</table>\n",
              "</div>"
            ],
            "text/plain": [
              "   0  1     2      3    4\n",
              "0  2  2  10.7  47.65  144\n",
              "1  2  3  14.0  63.13  215\n",
              "2  2  2   9.0  58.76  105\n",
              "3  1  1   8.0  34.88   69\n",
              "4  2  2  10.0  55.53  134"
            ]
          },
          "execution_count": 65,
          "metadata": {},
          "output_type": "execute_result"
        }
      ],
      "source": [
        "# numpy를 pandas로 변환 (변수명 미지정)\n",
        "df_pd = pd.DataFrame(df_num)\n",
        "df_pd.head()"
      ]
    },
    {
      "cell_type": "code",
      "execution_count": null,
      "metadata": {
        "id": "ZZ8iHBc_7XEh",
        "outputId": "7a8d8cc2-a6c6-425d-9161-fbf202ee7863"
      },
      "outputs": [
        {
          "data": {
            "text/html": [
              "<div>\n",
              "<style scoped>\n",
              "    .dataframe tbody tr th:only-of-type {\n",
              "        vertical-align: middle;\n",
              "    }\n",
              "\n",
              "    .dataframe tbody tr th {\n",
              "        vertical-align: top;\n",
              "    }\n",
              "\n",
              "    .dataframe thead th {\n",
              "        text-align: right;\n",
              "    }\n",
              "</style>\n",
              "<table border=\"1\" class=\"dataframe\">\n",
              "  <thead>\n",
              "    <tr style=\"text-align: right;\">\n",
              "      <th></th>\n",
              "      <th>continent</th>\n",
              "      <th>brand</th>\n",
              "      <th>size</th>\n",
              "      <th>period</th>\n",
              "      <th>price</th>\n",
              "    </tr>\n",
              "  </thead>\n",
              "  <tbody>\n",
              "    <tr>\n",
              "      <th>0</th>\n",
              "      <td>2</td>\n",
              "      <td>2</td>\n",
              "      <td>10.7</td>\n",
              "      <td>47.65</td>\n",
              "      <td>144</td>\n",
              "    </tr>\n",
              "    <tr>\n",
              "      <th>1</th>\n",
              "      <td>2</td>\n",
              "      <td>3</td>\n",
              "      <td>14.0</td>\n",
              "      <td>63.13</td>\n",
              "      <td>215</td>\n",
              "    </tr>\n",
              "    <tr>\n",
              "      <th>2</th>\n",
              "      <td>2</td>\n",
              "      <td>2</td>\n",
              "      <td>9.0</td>\n",
              "      <td>58.76</td>\n",
              "      <td>105</td>\n",
              "    </tr>\n",
              "    <tr>\n",
              "      <th>3</th>\n",
              "      <td>1</td>\n",
              "      <td>1</td>\n",
              "      <td>8.0</td>\n",
              "      <td>34.88</td>\n",
              "      <td>69</td>\n",
              "    </tr>\n",
              "    <tr>\n",
              "      <th>4</th>\n",
              "      <td>2</td>\n",
              "      <td>2</td>\n",
              "      <td>10.0</td>\n",
              "      <td>55.53</td>\n",
              "      <td>134</td>\n",
              "    </tr>\n",
              "  </tbody>\n",
              "</table>\n",
              "</div>"
            ],
            "text/plain": [
              "  continent brand  size period price\n",
              "0         2     2  10.7  47.65   144\n",
              "1         2     3  14.0  63.13   215\n",
              "2         2     2   9.0  58.76   105\n",
              "3         1     1   8.0  34.88    69\n",
              "4         2     2  10.0  55.53   134"
            ]
          },
          "execution_count": 66,
          "metadata": {},
          "output_type": "execute_result"
        }
      ],
      "source": [
        "# numpy를 pandas로 변환 (변수명 지정)\n",
        "df_pd2 = pd.DataFrame(data = df_num, columns = [\"continent\", \"brand\", \"size\", \"period\", \"price\"])\n",
        "df_pd2.head()"
      ]
    },
    {
      "cell_type": "markdown",
      "metadata": {
        "id": "29DgsBle7XEh"
      },
      "source": [
        "### 바. csv파일로 저장"
      ]
    },
    {
      "cell_type": "code",
      "execution_count": null,
      "metadata": {
        "id": "7rSmo3RU7XEh"
      },
      "outputs": [],
      "source": [
        "# 데이터셋명.to_csv(\"새로운파일명.csv\", index=True/False, encoding='utf-8'/'euc-kr', 'cp949')\n",
        "df.to_csv('new_data.csv', index=False, encoding='utf-8')"
      ]
    }
  ],
  "metadata": {
    "kernelspec": {
      "display_name": "Python 3",
      "language": "python",
      "name": "python3"
    },
    "language_info": {
      "codemirror_mode": {
        "name": "ipython",
        "version": 3
      },
      "file_extension": ".py",
      "mimetype": "text/x-python",
      "name": "python",
      "nbconvert_exporter": "python",
      "pygments_lexer": "ipython3",
      "version": "3.8.8"
    },
    "colab": {
      "name": "빅분기_1부_파이썬 기초.ipynb",
      "provenance": []
    }
  },
  "nbformat": 4,
  "nbformat_minor": 0
}